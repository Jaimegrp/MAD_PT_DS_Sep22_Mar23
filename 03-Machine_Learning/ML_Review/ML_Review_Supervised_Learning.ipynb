{
 "cells": [
  {
   "cell_type": "markdown",
   "metadata": {},
   "source": [
    "<a name=\"init\"></a>\n",
    "<h1>Machine Learning Review</h1>\n",
    "\n",
    "#### Sobre material de [Aurelien Geron](https://github.com/ageron/handson-ml3) y [Daniel Ortiz López](https://www.linkedin.com/in/daniel-ortiz-l%C3%B3pez/)\n",
    "\n",
    "En este notebook vamos a dar un repaso breve al **proceso extremo a extremo de Machine Learning** para generar modelos **antes de su puesta en producción**. Trataremos dos problemas de \"Negocio\" con técnicas de aprendizaje supervisado.\n",
    "\n"
   ]
  },
  {
   "cell_type": "markdown",
   "metadata": {},
   "source": [
    "## Zoom In: Machine Learning en una imagen"
   ]
  },
  {
   "cell_type": "markdown",
   "metadata": {},
   "source": [
    "<img src=\"./img/ml_pipeline.png\" alt=\"drawing\" width=\"650\"/>"
   ]
  },
  {
   "cell_type": "markdown",
   "metadata": {},
   "source": [
    "<img src=\"./img/model_review.png\" alt=\"drawing\" width=\"700\"/>"
   ]
  },
  {
   "cell_type": "markdown",
   "metadata": {},
   "source": [
    "## Zoom Out: En un contexto \"real\""
   ]
  },
  {
   "cell_type": "markdown",
   "metadata": {},
   "source": [
    "<img src=\"./img/the_big_picture.png\" alt=\"drawing\" width=\"800\"/>"
   ]
  },
  {
   "cell_type": "markdown",
   "metadata": {},
   "source": [
    "## Todo empieza con un problema (meta, deseo, etc)..."
   ]
  },
  {
   "cell_type": "markdown",
   "metadata": {},
   "source": [
    "En nuestro caso, tenemos dos. Después de nuestro exitoso paso por el PT de DS en TheBridge, trabajamos en **_GresDat_** (Global Real State Data).\n",
    "Nos han propuesto dos trabajos/problemas que creemos que podemos solucionar a partir de un mismo conjunto de datos:  \n",
    "1- Una empresa de campos de golf: **Predecir el valor de las casas en California**, en concreto en los más de veinte mil distritos del estado.  \n",
    "2- Una empresa de encuestas para campañas de publicidad: Estimar que **tipo de preferencia deportiva (NFL o NBA)** existe en esos distritos.  \n",
    "\n",
    "NOTA: Esta es una definición todavía muy vaga, pero lo iremos viendo..."
   ]
  },
  {
   "cell_type": "markdown",
   "metadata": {},
   "source": [
    "## ... y sigue con los datos"
   ]
  },
  {
   "cell_type": "markdown",
   "metadata": {},
   "source": [
    "Revisando las bases de datos de GresDat encontramos un par de fuentes interesantes:  \n",
    "* Los datos de precios medios establecidos por campañas anteriores en función de una serie de características\n",
    "* Los datos geográficos de preferencias de NBA y NFL que se emplearon en proyectos anteriores"
   ]
  },
  {
   "cell_type": "markdown",
   "metadata": {},
   "source": [
    "# Obtengamos los datos"
   ]
  },
  {
   "cell_type": "markdown",
   "metadata": {},
   "source": [
    "<img src=\"./img/ml_pipeline_2.png\" alt=\"drawing\" width=\"650\"/>"
   ]
  },
  {
   "cell_type": "code",
   "execution_count": 565,
   "metadata": {},
   "outputs": [],
   "source": [
    "import numpy as np\n",
    "import pandas as pd\n",
    "import time as tm"
   ]
  },
  {
   "cell_type": "code",
   "execution_count": 96,
   "metadata": {},
   "outputs": [],
   "source": [
    "FICHERO_DATOS_GENERALES = \"./data/housing_general_data_ml.csv\"\n",
    "FICHERO_DATOS_OTROS = \"./data/housing_geof_data_ml.csv\""
   ]
  },
  {
   "cell_type": "code",
   "execution_count": 97,
   "metadata": {},
   "outputs": [],
   "source": [
    "df_fuente_casa_datos_generales = pd.read_csv(FICHERO_DATOS_GENERALES)\n",
    "df_fuente_casa_datos_otros = pd.read_csv(FICHERO_DATOS_OTROS)"
   ]
  },
  {
   "cell_type": "code",
   "execution_count": 98,
   "metadata": {},
   "outputs": [
    {
     "data": {
      "text/html": [
       "<div>\n",
       "<style scoped>\n",
       "    .dataframe tbody tr th:only-of-type {\n",
       "        vertical-align: middle;\n",
       "    }\n",
       "\n",
       "    .dataframe tbody tr th {\n",
       "        vertical-align: top;\n",
       "    }\n",
       "\n",
       "    .dataframe thead th {\n",
       "        text-align: right;\n",
       "    }\n",
       "</style>\n",
       "<table border=\"1\" class=\"dataframe\">\n",
       "  <thead>\n",
       "    <tr style=\"text-align: right;\">\n",
       "      <th></th>\n",
       "      <th>housing_median_age</th>\n",
       "      <th>total_rooms</th>\n",
       "      <th>total_bedrooms</th>\n",
       "      <th>population</th>\n",
       "      <th>households</th>\n",
       "      <th>median_house_value</th>\n",
       "      <th>ocean_proximity</th>\n",
       "      <th>income_cat</th>\n",
       "      <th>district_id</th>\n",
       "    </tr>\n",
       "  </thead>\n",
       "  <tbody>\n",
       "    <tr>\n",
       "      <th>0</th>\n",
       "      <td>41.0</td>\n",
       "      <td>880.0</td>\n",
       "      <td>129.0</td>\n",
       "      <td>322.0</td>\n",
       "      <td>126.0</td>\n",
       "      <td>452600.0</td>\n",
       "      <td>NEAR BAY</td>\n",
       "      <td>5</td>\n",
       "      <td>0-4bba9204-92ef-4438-9ec3-2d0e8241b1fe</td>\n",
       "    </tr>\n",
       "    <tr>\n",
       "      <th>1</th>\n",
       "      <td>21.0</td>\n",
       "      <td>7099.0</td>\n",
       "      <td>1106.0</td>\n",
       "      <td>2401.0</td>\n",
       "      <td>1138.0</td>\n",
       "      <td>358500.0</td>\n",
       "      <td>NEAR BAY</td>\n",
       "      <td>5</td>\n",
       "      <td>0-da0bef30-7957-4318-8da4-f2802d20b334</td>\n",
       "    </tr>\n",
       "    <tr>\n",
       "      <th>2</th>\n",
       "      <td>52.0</td>\n",
       "      <td>1467.0</td>\n",
       "      <td>190.0</td>\n",
       "      <td>496.0</td>\n",
       "      <td>177.0</td>\n",
       "      <td>352100.0</td>\n",
       "      <td>NEAR BAY</td>\n",
       "      <td>5</td>\n",
       "      <td>0-acc0dc68-6849-4670-89ee-06b5f9d056b6</td>\n",
       "    </tr>\n",
       "    <tr>\n",
       "      <th>3</th>\n",
       "      <td>52.0</td>\n",
       "      <td>1274.0</td>\n",
       "      <td>235.0</td>\n",
       "      <td>558.0</td>\n",
       "      <td>219.0</td>\n",
       "      <td>341300.0</td>\n",
       "      <td>NEAR BAY</td>\n",
       "      <td>4</td>\n",
       "      <td>0-f0ce96ca-c315-4c57-822e-a1c55e0bb874</td>\n",
       "    </tr>\n",
       "    <tr>\n",
       "      <th>4</th>\n",
       "      <td>52.0</td>\n",
       "      <td>1627.0</td>\n",
       "      <td>280.0</td>\n",
       "      <td>565.0</td>\n",
       "      <td>259.0</td>\n",
       "      <td>342200.0</td>\n",
       "      <td>NEAR BAY</td>\n",
       "      <td>3</td>\n",
       "      <td>0-284da5f3-e5b3-4bfc-8e42-78c418011bb4</td>\n",
       "    </tr>\n",
       "  </tbody>\n",
       "</table>\n",
       "</div>"
      ],
      "text/plain": [
       "   housing_median_age  total_rooms  total_bedrooms  population  households  \\\n",
       "0                41.0        880.0           129.0       322.0       126.0   \n",
       "1                21.0       7099.0          1106.0      2401.0      1138.0   \n",
       "2                52.0       1467.0           190.0       496.0       177.0   \n",
       "3                52.0       1274.0           235.0       558.0       219.0   \n",
       "4                52.0       1627.0           280.0       565.0       259.0   \n",
       "\n",
       "   median_house_value ocean_proximity  income_cat  \\\n",
       "0            452600.0        NEAR BAY           5   \n",
       "1            358500.0        NEAR BAY           5   \n",
       "2            352100.0        NEAR BAY           5   \n",
       "3            341300.0        NEAR BAY           4   \n",
       "4            342200.0        NEAR BAY           3   \n",
       "\n",
       "                              district_id  \n",
       "0  0-4bba9204-92ef-4438-9ec3-2d0e8241b1fe  \n",
       "1  0-da0bef30-7957-4318-8da4-f2802d20b334  \n",
       "2  0-acc0dc68-6849-4670-89ee-06b5f9d056b6  \n",
       "3  0-f0ce96ca-c315-4c57-822e-a1c55e0bb874  \n",
       "4  0-284da5f3-e5b3-4bfc-8e42-78c418011bb4  "
      ]
     },
     "execution_count": 98,
     "metadata": {},
     "output_type": "execute_result"
    }
   ],
   "source": [
    "df_fuente_casa_datos_generales.head()"
   ]
  },
  {
   "cell_type": "code",
   "execution_count": 99,
   "metadata": {},
   "outputs": [
    {
     "data": {
      "text/html": [
       "<div>\n",
       "<style scoped>\n",
       "    .dataframe tbody tr th:only-of-type {\n",
       "        vertical-align: middle;\n",
       "    }\n",
       "\n",
       "    .dataframe tbody tr th {\n",
       "        vertical-align: top;\n",
       "    }\n",
       "\n",
       "    .dataframe thead th {\n",
       "        text-align: right;\n",
       "    }\n",
       "</style>\n",
       "<table border=\"1\" class=\"dataframe\">\n",
       "  <thead>\n",
       "    <tr style=\"text-align: right;\">\n",
       "      <th></th>\n",
       "      <th>longitude</th>\n",
       "      <th>latitude</th>\n",
       "      <th>NBA</th>\n",
       "      <th>district_id</th>\n",
       "    </tr>\n",
       "  </thead>\n",
       "  <tbody>\n",
       "    <tr>\n",
       "      <th>0</th>\n",
       "      <td>-120.93</td>\n",
       "      <td>39.90</td>\n",
       "      <td>True</td>\n",
       "      <td>000057c1-ba24-47e0-8be5-b86f3107a1a5</td>\n",
       "    </tr>\n",
       "    <tr>\n",
       "      <th>1</th>\n",
       "      <td>-117.08</td>\n",
       "      <td>32.62</td>\n",
       "      <td>True</td>\n",
       "      <td>0003be7b-8f81-43ed-a627-28e6a75a2530</td>\n",
       "    </tr>\n",
       "    <tr>\n",
       "      <th>2</th>\n",
       "      <td>-116.52</td>\n",
       "      <td>32.90</td>\n",
       "      <td>False</td>\n",
       "      <td>00052642-8e20-4513-828e-6b4c5c820e67</td>\n",
       "    </tr>\n",
       "    <tr>\n",
       "      <th>3</th>\n",
       "      <td>-117.08</td>\n",
       "      <td>33.14</td>\n",
       "      <td>True</td>\n",
       "      <td>00058840-12b0-4df5-b6ed-c8b0e6c21038</td>\n",
       "    </tr>\n",
       "    <tr>\n",
       "      <th>4</th>\n",
       "      <td>-118.06</td>\n",
       "      <td>33.81</td>\n",
       "      <td>False</td>\n",
       "      <td>0008d438-d4a6-4a26-9075-f0ea346f0bd3</td>\n",
       "    </tr>\n",
       "  </tbody>\n",
       "</table>\n",
       "</div>"
      ],
      "text/plain": [
       "   longitude  latitude    NBA                           district_id\n",
       "0    -120.93     39.90   True  000057c1-ba24-47e0-8be5-b86f3107a1a5\n",
       "1    -117.08     32.62   True  0003be7b-8f81-43ed-a627-28e6a75a2530\n",
       "2    -116.52     32.90  False  00052642-8e20-4513-828e-6b4c5c820e67\n",
       "3    -117.08     33.14   True  00058840-12b0-4df5-b6ed-c8b0e6c21038\n",
       "4    -118.06     33.81  False  0008d438-d4a6-4a26-9075-f0ea346f0bd3"
      ]
     },
     "execution_count": 99,
     "metadata": {},
     "output_type": "execute_result"
    }
   ],
   "source": [
    "df_fuente_casa_datos_otros.head()"
   ]
  },
  {
   "cell_type": "code",
   "execution_count": 100,
   "metadata": {},
   "outputs": [],
   "source": [
    "housing = df_fuente_casa_datos_generales.merge(df_fuente_casa_datos_otros, on = \"district_id\", how = \"left\")"
   ]
  },
  {
   "cell_type": "code",
   "execution_count": 101,
   "metadata": {},
   "outputs": [
    {
     "name": "stdout",
     "output_type": "stream",
     "text": [
      "20640\n"
     ]
    }
   ],
   "source": [
    "print(len(housing))"
   ]
  },
  {
   "cell_type": "code",
   "execution_count": 102,
   "metadata": {},
   "outputs": [
    {
     "data": {
      "text/html": [
       "<div>\n",
       "<style scoped>\n",
       "    .dataframe tbody tr th:only-of-type {\n",
       "        vertical-align: middle;\n",
       "    }\n",
       "\n",
       "    .dataframe tbody tr th {\n",
       "        vertical-align: top;\n",
       "    }\n",
       "\n",
       "    .dataframe thead th {\n",
       "        text-align: right;\n",
       "    }\n",
       "</style>\n",
       "<table border=\"1\" class=\"dataframe\">\n",
       "  <thead>\n",
       "    <tr style=\"text-align: right;\">\n",
       "      <th></th>\n",
       "      <th>housing_median_age</th>\n",
       "      <th>total_rooms</th>\n",
       "      <th>total_bedrooms</th>\n",
       "      <th>population</th>\n",
       "      <th>households</th>\n",
       "      <th>median_house_value</th>\n",
       "      <th>ocean_proximity</th>\n",
       "      <th>income_cat</th>\n",
       "      <th>district_id</th>\n",
       "      <th>longitude</th>\n",
       "      <th>latitude</th>\n",
       "      <th>NBA</th>\n",
       "    </tr>\n",
       "  </thead>\n",
       "  <tbody>\n",
       "    <tr>\n",
       "      <th>0</th>\n",
       "      <td>41.0</td>\n",
       "      <td>880.0</td>\n",
       "      <td>129.0</td>\n",
       "      <td>322.0</td>\n",
       "      <td>126.0</td>\n",
       "      <td>452600.0</td>\n",
       "      <td>NEAR BAY</td>\n",
       "      <td>5</td>\n",
       "      <td>0-4bba9204-92ef-4438-9ec3-2d0e8241b1fe</td>\n",
       "      <td>NaN</td>\n",
       "      <td>NaN</td>\n",
       "      <td>NaN</td>\n",
       "    </tr>\n",
       "    <tr>\n",
       "      <th>1</th>\n",
       "      <td>21.0</td>\n",
       "      <td>7099.0</td>\n",
       "      <td>1106.0</td>\n",
       "      <td>2401.0</td>\n",
       "      <td>1138.0</td>\n",
       "      <td>358500.0</td>\n",
       "      <td>NEAR BAY</td>\n",
       "      <td>5</td>\n",
       "      <td>0-da0bef30-7957-4318-8da4-f2802d20b334</td>\n",
       "      <td>NaN</td>\n",
       "      <td>NaN</td>\n",
       "      <td>NaN</td>\n",
       "    </tr>\n",
       "    <tr>\n",
       "      <th>2</th>\n",
       "      <td>52.0</td>\n",
       "      <td>1467.0</td>\n",
       "      <td>190.0</td>\n",
       "      <td>496.0</td>\n",
       "      <td>177.0</td>\n",
       "      <td>352100.0</td>\n",
       "      <td>NEAR BAY</td>\n",
       "      <td>5</td>\n",
       "      <td>0-acc0dc68-6849-4670-89ee-06b5f9d056b6</td>\n",
       "      <td>NaN</td>\n",
       "      <td>NaN</td>\n",
       "      <td>NaN</td>\n",
       "    </tr>\n",
       "    <tr>\n",
       "      <th>3</th>\n",
       "      <td>52.0</td>\n",
       "      <td>1274.0</td>\n",
       "      <td>235.0</td>\n",
       "      <td>558.0</td>\n",
       "      <td>219.0</td>\n",
       "      <td>341300.0</td>\n",
       "      <td>NEAR BAY</td>\n",
       "      <td>4</td>\n",
       "      <td>0-f0ce96ca-c315-4c57-822e-a1c55e0bb874</td>\n",
       "      <td>NaN</td>\n",
       "      <td>NaN</td>\n",
       "      <td>NaN</td>\n",
       "    </tr>\n",
       "    <tr>\n",
       "      <th>4</th>\n",
       "      <td>52.0</td>\n",
       "      <td>1627.0</td>\n",
       "      <td>280.0</td>\n",
       "      <td>565.0</td>\n",
       "      <td>259.0</td>\n",
       "      <td>342200.0</td>\n",
       "      <td>NEAR BAY</td>\n",
       "      <td>3</td>\n",
       "      <td>0-284da5f3-e5b3-4bfc-8e42-78c418011bb4</td>\n",
       "      <td>NaN</td>\n",
       "      <td>NaN</td>\n",
       "      <td>NaN</td>\n",
       "    </tr>\n",
       "  </tbody>\n",
       "</table>\n",
       "</div>"
      ],
      "text/plain": [
       "   housing_median_age  total_rooms  total_bedrooms  population  households  \\\n",
       "0                41.0        880.0           129.0       322.0       126.0   \n",
       "1                21.0       7099.0          1106.0      2401.0      1138.0   \n",
       "2                52.0       1467.0           190.0       496.0       177.0   \n",
       "3                52.0       1274.0           235.0       558.0       219.0   \n",
       "4                52.0       1627.0           280.0       565.0       259.0   \n",
       "\n",
       "   median_house_value ocean_proximity  income_cat  \\\n",
       "0            452600.0        NEAR BAY           5   \n",
       "1            358500.0        NEAR BAY           5   \n",
       "2            352100.0        NEAR BAY           5   \n",
       "3            341300.0        NEAR BAY           4   \n",
       "4            342200.0        NEAR BAY           3   \n",
       "\n",
       "                              district_id  longitude  latitude  NBA  \n",
       "0  0-4bba9204-92ef-4438-9ec3-2d0e8241b1fe        NaN       NaN  NaN  \n",
       "1  0-da0bef30-7957-4318-8da4-f2802d20b334        NaN       NaN  NaN  \n",
       "2  0-acc0dc68-6849-4670-89ee-06b5f9d056b6        NaN       NaN  NaN  \n",
       "3  0-f0ce96ca-c315-4c57-822e-a1c55e0bb874        NaN       NaN  NaN  \n",
       "4  0-284da5f3-e5b3-4bfc-8e42-78c418011bb4        NaN       NaN  NaN  "
      ]
     },
     "execution_count": 102,
     "metadata": {},
     "output_type": "execute_result"
    }
   ],
   "source": [
    "housing.head()"
   ]
  },
  {
   "cell_type": "markdown",
   "metadata": {},
   "source": [
    "#### La primera en la frente: No han cruzado bien, tendremos que ver que ha ocurrido... (tranquilos usaremos la máquina del tiempo de Arguiñano)"
   ]
  },
  {
   "cell_type": "code",
   "execution_count": 103,
   "metadata": {},
   "outputs": [
    {
     "data": {
      "text/plain": [
       "0    0-4bba9204-92ef-4438-9ec3-2d0e8241b1fe\n",
       "1    0-da0bef30-7957-4318-8da4-f2802d20b334\n",
       "2    0-acc0dc68-6849-4670-89ee-06b5f9d056b6\n",
       "3    0-f0ce96ca-c315-4c57-822e-a1c55e0bb874\n",
       "4    0-284da5f3-e5b3-4bfc-8e42-78c418011bb4\n",
       "Name: district_id, dtype: object"
      ]
     },
     "execution_count": 103,
     "metadata": {},
     "output_type": "execute_result"
    }
   ],
   "source": [
    "df_fuente_casa_datos_generales.iloc[:5].district_id"
   ]
  },
  {
   "cell_type": "code",
   "execution_count": 104,
   "metadata": {},
   "outputs": [
    {
     "data": {
      "text/plain": [
       "0    000057c1-ba24-47e0-8be5-b86f3107a1a5\n",
       "1    0003be7b-8f81-43ed-a627-28e6a75a2530\n",
       "2    00052642-8e20-4513-828e-6b4c5c820e67\n",
       "3    00058840-12b0-4df5-b6ed-c8b0e6c21038\n",
       "4    0008d438-d4a6-4a26-9075-f0ea346f0bd3\n",
       "Name: district_id, dtype: object"
      ]
     },
     "execution_count": 104,
     "metadata": {},
     "output_type": "execute_result"
    }
   ],
   "source": [
    "df_fuente_casa_datos_otros.iloc[:5].district_id"
   ]
  },
  {
   "cell_type": "markdown",
   "metadata": {},
   "source": [
    "Tenemos que arreglar el problema con los indices"
   ]
  },
  {
   "cell_type": "code",
   "execution_count": 105,
   "metadata": {},
   "outputs": [],
   "source": [
    "df_fuente_casa_datos_otros[\"new_district_id\"] = df_fuente_casa_datos_otros.district_id.apply(lambda row: \"0-\" + row)"
   ]
  },
  {
   "cell_type": "code",
   "execution_count": 106,
   "metadata": {},
   "outputs": [
    {
     "data": {
      "text/plain": [
       "0    0-000057c1-ba24-47e0-8be5-b86f3107a1a5\n",
       "1    0-0003be7b-8f81-43ed-a627-28e6a75a2530\n",
       "2    0-00052642-8e20-4513-828e-6b4c5c820e67\n",
       "3    0-00058840-12b0-4df5-b6ed-c8b0e6c21038\n",
       "4    0-0008d438-d4a6-4a26-9075-f0ea346f0bd3\n",
       "Name: new_district_id, dtype: object"
      ]
     },
     "execution_count": 106,
     "metadata": {},
     "output_type": "execute_result"
    }
   ],
   "source": [
    "df_fuente_casa_datos_otros.iloc[:5].new_district_id"
   ]
  },
  {
   "cell_type": "code",
   "execution_count": 107,
   "metadata": {},
   "outputs": [],
   "source": [
    "housing = df_fuente_casa_datos_generales.merge(df_fuente_casa_datos_otros, left_on = \"district_id\", right_on = \"new_district_id\", how = \"left\")"
   ]
  },
  {
   "cell_type": "code",
   "execution_count": 108,
   "metadata": {},
   "outputs": [
    {
     "data": {
      "text/html": [
       "<div>\n",
       "<style scoped>\n",
       "    .dataframe tbody tr th:only-of-type {\n",
       "        vertical-align: middle;\n",
       "    }\n",
       "\n",
       "    .dataframe tbody tr th {\n",
       "        vertical-align: top;\n",
       "    }\n",
       "\n",
       "    .dataframe thead th {\n",
       "        text-align: right;\n",
       "    }\n",
       "</style>\n",
       "<table border=\"1\" class=\"dataframe\">\n",
       "  <thead>\n",
       "    <tr style=\"text-align: right;\">\n",
       "      <th></th>\n",
       "      <th>housing_median_age</th>\n",
       "      <th>total_rooms</th>\n",
       "      <th>total_bedrooms</th>\n",
       "      <th>population</th>\n",
       "      <th>households</th>\n",
       "      <th>median_house_value</th>\n",
       "      <th>ocean_proximity</th>\n",
       "      <th>income_cat</th>\n",
       "      <th>district_id_x</th>\n",
       "      <th>longitude</th>\n",
       "      <th>latitude</th>\n",
       "      <th>NBA</th>\n",
       "      <th>district_id_y</th>\n",
       "      <th>new_district_id</th>\n",
       "    </tr>\n",
       "  </thead>\n",
       "  <tbody>\n",
       "    <tr>\n",
       "      <th>0</th>\n",
       "      <td>41.0</td>\n",
       "      <td>880.0</td>\n",
       "      <td>129.0</td>\n",
       "      <td>322.0</td>\n",
       "      <td>126.0</td>\n",
       "      <td>452600.0</td>\n",
       "      <td>NEAR BAY</td>\n",
       "      <td>5</td>\n",
       "      <td>0-4bba9204-92ef-4438-9ec3-2d0e8241b1fe</td>\n",
       "      <td>-122.23</td>\n",
       "      <td>37.88</td>\n",
       "      <td>False</td>\n",
       "      <td>4bba9204-92ef-4438-9ec3-2d0e8241b1fe</td>\n",
       "      <td>0-4bba9204-92ef-4438-9ec3-2d0e8241b1fe</td>\n",
       "    </tr>\n",
       "    <tr>\n",
       "      <th>1</th>\n",
       "      <td>21.0</td>\n",
       "      <td>7099.0</td>\n",
       "      <td>1106.0</td>\n",
       "      <td>2401.0</td>\n",
       "      <td>1138.0</td>\n",
       "      <td>358500.0</td>\n",
       "      <td>NEAR BAY</td>\n",
       "      <td>5</td>\n",
       "      <td>0-da0bef30-7957-4318-8da4-f2802d20b334</td>\n",
       "      <td>-122.22</td>\n",
       "      <td>37.86</td>\n",
       "      <td>True</td>\n",
       "      <td>da0bef30-7957-4318-8da4-f2802d20b334</td>\n",
       "      <td>0-da0bef30-7957-4318-8da4-f2802d20b334</td>\n",
       "    </tr>\n",
       "    <tr>\n",
       "      <th>2</th>\n",
       "      <td>52.0</td>\n",
       "      <td>1467.0</td>\n",
       "      <td>190.0</td>\n",
       "      <td>496.0</td>\n",
       "      <td>177.0</td>\n",
       "      <td>352100.0</td>\n",
       "      <td>NEAR BAY</td>\n",
       "      <td>5</td>\n",
       "      <td>0-acc0dc68-6849-4670-89ee-06b5f9d056b6</td>\n",
       "      <td>-122.24</td>\n",
       "      <td>37.85</td>\n",
       "      <td>False</td>\n",
       "      <td>acc0dc68-6849-4670-89ee-06b5f9d056b6</td>\n",
       "      <td>0-acc0dc68-6849-4670-89ee-06b5f9d056b6</td>\n",
       "    </tr>\n",
       "    <tr>\n",
       "      <th>3</th>\n",
       "      <td>52.0</td>\n",
       "      <td>1274.0</td>\n",
       "      <td>235.0</td>\n",
       "      <td>558.0</td>\n",
       "      <td>219.0</td>\n",
       "      <td>341300.0</td>\n",
       "      <td>NEAR BAY</td>\n",
       "      <td>4</td>\n",
       "      <td>0-f0ce96ca-c315-4c57-822e-a1c55e0bb874</td>\n",
       "      <td>-122.25</td>\n",
       "      <td>37.85</td>\n",
       "      <td>True</td>\n",
       "      <td>f0ce96ca-c315-4c57-822e-a1c55e0bb874</td>\n",
       "      <td>0-f0ce96ca-c315-4c57-822e-a1c55e0bb874</td>\n",
       "    </tr>\n",
       "    <tr>\n",
       "      <th>4</th>\n",
       "      <td>52.0</td>\n",
       "      <td>1627.0</td>\n",
       "      <td>280.0</td>\n",
       "      <td>565.0</td>\n",
       "      <td>259.0</td>\n",
       "      <td>342200.0</td>\n",
       "      <td>NEAR BAY</td>\n",
       "      <td>3</td>\n",
       "      <td>0-284da5f3-e5b3-4bfc-8e42-78c418011bb4</td>\n",
       "      <td>-122.25</td>\n",
       "      <td>37.85</td>\n",
       "      <td>True</td>\n",
       "      <td>284da5f3-e5b3-4bfc-8e42-78c418011bb4</td>\n",
       "      <td>0-284da5f3-e5b3-4bfc-8e42-78c418011bb4</td>\n",
       "    </tr>\n",
       "  </tbody>\n",
       "</table>\n",
       "</div>"
      ],
      "text/plain": [
       "   housing_median_age  total_rooms  total_bedrooms  population  households  \\\n",
       "0                41.0        880.0           129.0       322.0       126.0   \n",
       "1                21.0       7099.0          1106.0      2401.0      1138.0   \n",
       "2                52.0       1467.0           190.0       496.0       177.0   \n",
       "3                52.0       1274.0           235.0       558.0       219.0   \n",
       "4                52.0       1627.0           280.0       565.0       259.0   \n",
       "\n",
       "   median_house_value ocean_proximity  income_cat  \\\n",
       "0            452600.0        NEAR BAY           5   \n",
       "1            358500.0        NEAR BAY           5   \n",
       "2            352100.0        NEAR BAY           5   \n",
       "3            341300.0        NEAR BAY           4   \n",
       "4            342200.0        NEAR BAY           3   \n",
       "\n",
       "                            district_id_x  longitude  latitude    NBA  \\\n",
       "0  0-4bba9204-92ef-4438-9ec3-2d0e8241b1fe    -122.23     37.88  False   \n",
       "1  0-da0bef30-7957-4318-8da4-f2802d20b334    -122.22     37.86   True   \n",
       "2  0-acc0dc68-6849-4670-89ee-06b5f9d056b6    -122.24     37.85  False   \n",
       "3  0-f0ce96ca-c315-4c57-822e-a1c55e0bb874    -122.25     37.85   True   \n",
       "4  0-284da5f3-e5b3-4bfc-8e42-78c418011bb4    -122.25     37.85   True   \n",
       "\n",
       "                          district_id_y  \\\n",
       "0  4bba9204-92ef-4438-9ec3-2d0e8241b1fe   \n",
       "1  da0bef30-7957-4318-8da4-f2802d20b334   \n",
       "2  acc0dc68-6849-4670-89ee-06b5f9d056b6   \n",
       "3  f0ce96ca-c315-4c57-822e-a1c55e0bb874   \n",
       "4  284da5f3-e5b3-4bfc-8e42-78c418011bb4   \n",
       "\n",
       "                          new_district_id  \n",
       "0  0-4bba9204-92ef-4438-9ec3-2d0e8241b1fe  \n",
       "1  0-da0bef30-7957-4318-8da4-f2802d20b334  \n",
       "2  0-acc0dc68-6849-4670-89ee-06b5f9d056b6  \n",
       "3  0-f0ce96ca-c315-4c57-822e-a1c55e0bb874  \n",
       "4  0-284da5f3-e5b3-4bfc-8e42-78c418011bb4  "
      ]
     },
     "execution_count": 108,
     "metadata": {},
     "output_type": "execute_result"
    }
   ],
   "source": [
    "housing.head()"
   ]
  },
  {
   "cell_type": "code",
   "execution_count": 109,
   "metadata": {},
   "outputs": [],
   "source": [
    "housing.drop([\"district_id_x\",\"district_id_y\"], axis = 1, inplace = True)"
   ]
  },
  {
   "cell_type": "code",
   "execution_count": 110,
   "metadata": {},
   "outputs": [
    {
     "data": {
      "text/plain": [
       "Index(['housing_median_age', 'total_rooms', 'total_bedrooms', 'population',\n",
       "       'households', 'median_house_value', 'ocean_proximity', 'income_cat',\n",
       "       'longitude', 'latitude', 'NBA', 'new_district_id'],\n",
       "      dtype='object')"
      ]
     },
     "execution_count": 110,
     "metadata": {},
     "output_type": "execute_result"
    }
   ],
   "source": [
    "housing.columns"
   ]
  },
  {
   "cell_type": "markdown",
   "metadata": {},
   "source": [
    "Antes de ponernos a programar tenemos que entender muy bién cuál es la problemática y de qué datos disponemos, ya que este momento puede ser un punto de inflexión importante. Quizá con un pequeño análisis previo nos demos cuenta de que no hace falta un modelo de machine learning para solventar nuestro problema, o que no tenemos sufientes datos para realizar las predicciones planteadas inicialmente.\n"
   ]
  },
  {
   "cell_type": "markdown",
   "metadata": {},
   "source": [
    "# Hora de entender un poco mejor la estructura y los datos"
   ]
  },
  {
   "cell_type": "markdown",
   "metadata": {},
   "source": [
    "<img src=\"./img/ml_pipeline_3.png\" alt=\"drawing\" width=\"700\"/>"
   ]
  },
  {
   "cell_type": "code",
   "execution_count": 111,
   "metadata": {},
   "outputs": [
    {
     "data": {
      "text/html": [
       "<div>\n",
       "<style scoped>\n",
       "    .dataframe tbody tr th:only-of-type {\n",
       "        vertical-align: middle;\n",
       "    }\n",
       "\n",
       "    .dataframe tbody tr th {\n",
       "        vertical-align: top;\n",
       "    }\n",
       "\n",
       "    .dataframe thead th {\n",
       "        text-align: right;\n",
       "    }\n",
       "</style>\n",
       "<table border=\"1\" class=\"dataframe\">\n",
       "  <thead>\n",
       "    <tr style=\"text-align: right;\">\n",
       "      <th></th>\n",
       "      <th>housing_median_age</th>\n",
       "      <th>total_rooms</th>\n",
       "      <th>total_bedrooms</th>\n",
       "      <th>population</th>\n",
       "      <th>households</th>\n",
       "      <th>median_house_value</th>\n",
       "      <th>ocean_proximity</th>\n",
       "      <th>income_cat</th>\n",
       "      <th>longitude</th>\n",
       "      <th>latitude</th>\n",
       "      <th>NBA</th>\n",
       "      <th>new_district_id</th>\n",
       "    </tr>\n",
       "  </thead>\n",
       "  <tbody>\n",
       "    <tr>\n",
       "      <th>0</th>\n",
       "      <td>41.0</td>\n",
       "      <td>880.0</td>\n",
       "      <td>129.0</td>\n",
       "      <td>322.0</td>\n",
       "      <td>126.0</td>\n",
       "      <td>452600.0</td>\n",
       "      <td>NEAR BAY</td>\n",
       "      <td>5</td>\n",
       "      <td>-122.23</td>\n",
       "      <td>37.88</td>\n",
       "      <td>False</td>\n",
       "      <td>0-4bba9204-92ef-4438-9ec3-2d0e8241b1fe</td>\n",
       "    </tr>\n",
       "    <tr>\n",
       "      <th>1</th>\n",
       "      <td>21.0</td>\n",
       "      <td>7099.0</td>\n",
       "      <td>1106.0</td>\n",
       "      <td>2401.0</td>\n",
       "      <td>1138.0</td>\n",
       "      <td>358500.0</td>\n",
       "      <td>NEAR BAY</td>\n",
       "      <td>5</td>\n",
       "      <td>-122.22</td>\n",
       "      <td>37.86</td>\n",
       "      <td>True</td>\n",
       "      <td>0-da0bef30-7957-4318-8da4-f2802d20b334</td>\n",
       "    </tr>\n",
       "    <tr>\n",
       "      <th>2</th>\n",
       "      <td>52.0</td>\n",
       "      <td>1467.0</td>\n",
       "      <td>190.0</td>\n",
       "      <td>496.0</td>\n",
       "      <td>177.0</td>\n",
       "      <td>352100.0</td>\n",
       "      <td>NEAR BAY</td>\n",
       "      <td>5</td>\n",
       "      <td>-122.24</td>\n",
       "      <td>37.85</td>\n",
       "      <td>False</td>\n",
       "      <td>0-acc0dc68-6849-4670-89ee-06b5f9d056b6</td>\n",
       "    </tr>\n",
       "    <tr>\n",
       "      <th>3</th>\n",
       "      <td>52.0</td>\n",
       "      <td>1274.0</td>\n",
       "      <td>235.0</td>\n",
       "      <td>558.0</td>\n",
       "      <td>219.0</td>\n",
       "      <td>341300.0</td>\n",
       "      <td>NEAR BAY</td>\n",
       "      <td>4</td>\n",
       "      <td>-122.25</td>\n",
       "      <td>37.85</td>\n",
       "      <td>True</td>\n",
       "      <td>0-f0ce96ca-c315-4c57-822e-a1c55e0bb874</td>\n",
       "    </tr>\n",
       "    <tr>\n",
       "      <th>4</th>\n",
       "      <td>52.0</td>\n",
       "      <td>1627.0</td>\n",
       "      <td>280.0</td>\n",
       "      <td>565.0</td>\n",
       "      <td>259.0</td>\n",
       "      <td>342200.0</td>\n",
       "      <td>NEAR BAY</td>\n",
       "      <td>3</td>\n",
       "      <td>-122.25</td>\n",
       "      <td>37.85</td>\n",
       "      <td>True</td>\n",
       "      <td>0-284da5f3-e5b3-4bfc-8e42-78c418011bb4</td>\n",
       "    </tr>\n",
       "  </tbody>\n",
       "</table>\n",
       "</div>"
      ],
      "text/plain": [
       "   housing_median_age  total_rooms  total_bedrooms  population  households  \\\n",
       "0                41.0        880.0           129.0       322.0       126.0   \n",
       "1                21.0       7099.0          1106.0      2401.0      1138.0   \n",
       "2                52.0       1467.0           190.0       496.0       177.0   \n",
       "3                52.0       1274.0           235.0       558.0       219.0   \n",
       "4                52.0       1627.0           280.0       565.0       259.0   \n",
       "\n",
       "   median_house_value ocean_proximity  income_cat  longitude  latitude    NBA  \\\n",
       "0            452600.0        NEAR BAY           5    -122.23     37.88  False   \n",
       "1            358500.0        NEAR BAY           5    -122.22     37.86   True   \n",
       "2            352100.0        NEAR BAY           5    -122.24     37.85  False   \n",
       "3            341300.0        NEAR BAY           4    -122.25     37.85   True   \n",
       "4            342200.0        NEAR BAY           3    -122.25     37.85   True   \n",
       "\n",
       "                          new_district_id  \n",
       "0  0-4bba9204-92ef-4438-9ec3-2d0e8241b1fe  \n",
       "1  0-da0bef30-7957-4318-8da4-f2802d20b334  \n",
       "2  0-acc0dc68-6849-4670-89ee-06b5f9d056b6  \n",
       "3  0-f0ce96ca-c315-4c57-822e-a1c55e0bb874  \n",
       "4  0-284da5f3-e5b3-4bfc-8e42-78c418011bb4  "
      ]
     },
     "execution_count": 111,
     "metadata": {},
     "output_type": "execute_result"
    }
   ],
   "source": [
    "housing.head()"
   ]
  },
  {
   "cell_type": "code",
   "execution_count": 112,
   "metadata": {},
   "outputs": [
    {
     "name": "stdout",
     "output_type": "stream",
     "text": [
      "<class 'pandas.core.frame.DataFrame'>\n",
      "Int64Index: 20640 entries, 0 to 20639\n",
      "Data columns (total 12 columns):\n",
      " #   Column              Non-Null Count  Dtype  \n",
      "---  ------              --------------  -----  \n",
      " 0   housing_median_age  20640 non-null  float64\n",
      " 1   total_rooms         20640 non-null  float64\n",
      " 2   total_bedrooms      20433 non-null  float64\n",
      " 3   population          20640 non-null  float64\n",
      " 4   households          20640 non-null  float64\n",
      " 5   median_house_value  20640 non-null  float64\n",
      " 6   ocean_proximity     20640 non-null  object \n",
      " 7   income_cat          20640 non-null  int64  \n",
      " 8   longitude           20640 non-null  float64\n",
      " 9   latitude            20640 non-null  float64\n",
      " 10  NBA                 20640 non-null  bool   \n",
      " 11  new_district_id     20640 non-null  object \n",
      "dtypes: bool(1), float64(8), int64(1), object(2)\n",
      "memory usage: 1.9+ MB\n"
     ]
    }
   ],
   "source": [
    "housing.info()"
   ]
  },
  {
   "cell_type": "code",
   "execution_count": 113,
   "metadata": {},
   "outputs": [],
   "source": [
    "def data_report(df):\n",
    "    # Sacamos los NOMBRES\n",
    "    cols = pd.DataFrame(df.columns.values, columns=[\"COL_N\"])\n",
    "\n",
    "    # Sacamos los TIPOS\n",
    "    types = pd.DataFrame(df.dtypes.values, columns=[\"DATA_TYPE\"])\n",
    "\n",
    "    # Sacamos los MISSINGS\n",
    "    percent_missing = round(df.isnull().sum() * 100 / len(df), 2)\n",
    "    percent_missing_df = pd.DataFrame(percent_missing.values, columns=[\"MISSINGS (%)\"])\n",
    "\n",
    "    # Sacamos los VALORES UNICOS\n",
    "    unicos = pd.DataFrame(df.nunique().values, columns=[\"UNIQUE_VALUES\"])\n",
    "    \n",
    "    percent_cardin = round(unicos['UNIQUE_VALUES']*100/len(df), 2)\n",
    "    percent_cardin_df = pd.DataFrame(percent_cardin.values, columns=[\"CARDIN (%)\"])\n",
    "\n",
    "    concatenado = pd.concat([cols, types, percent_missing_df, unicos, percent_cardin_df], axis=1, sort=False)\n",
    "    concatenado.set_index('COL_N', drop=True, inplace=True)\n",
    "\n",
    "\n",
    "    return concatenado.T"
   ]
  },
  {
   "cell_type": "code",
   "execution_count": 114,
   "metadata": {},
   "outputs": [
    {
     "data": {
      "text/html": [
       "<div>\n",
       "<style scoped>\n",
       "    .dataframe tbody tr th:only-of-type {\n",
       "        vertical-align: middle;\n",
       "    }\n",
       "\n",
       "    .dataframe tbody tr th {\n",
       "        vertical-align: top;\n",
       "    }\n",
       "\n",
       "    .dataframe thead th {\n",
       "        text-align: right;\n",
       "    }\n",
       "</style>\n",
       "<table border=\"1\" class=\"dataframe\">\n",
       "  <thead>\n",
       "    <tr style=\"text-align: right;\">\n",
       "      <th>COL_N</th>\n",
       "      <th>housing_median_age</th>\n",
       "      <th>total_rooms</th>\n",
       "      <th>total_bedrooms</th>\n",
       "      <th>population</th>\n",
       "      <th>households</th>\n",
       "      <th>median_house_value</th>\n",
       "      <th>ocean_proximity</th>\n",
       "      <th>income_cat</th>\n",
       "      <th>longitude</th>\n",
       "      <th>latitude</th>\n",
       "      <th>NBA</th>\n",
       "      <th>new_district_id</th>\n",
       "    </tr>\n",
       "  </thead>\n",
       "  <tbody>\n",
       "    <tr>\n",
       "      <th>DATA_TYPE</th>\n",
       "      <td>float64</td>\n",
       "      <td>float64</td>\n",
       "      <td>float64</td>\n",
       "      <td>float64</td>\n",
       "      <td>float64</td>\n",
       "      <td>float64</td>\n",
       "      <td>object</td>\n",
       "      <td>int64</td>\n",
       "      <td>float64</td>\n",
       "      <td>float64</td>\n",
       "      <td>bool</td>\n",
       "      <td>object</td>\n",
       "    </tr>\n",
       "    <tr>\n",
       "      <th>MISSINGS (%)</th>\n",
       "      <td>0.0</td>\n",
       "      <td>0.0</td>\n",
       "      <td>1.0</td>\n",
       "      <td>0.0</td>\n",
       "      <td>0.0</td>\n",
       "      <td>0.0</td>\n",
       "      <td>0.0</td>\n",
       "      <td>0.0</td>\n",
       "      <td>0.0</td>\n",
       "      <td>0.0</td>\n",
       "      <td>0.0</td>\n",
       "      <td>0.0</td>\n",
       "    </tr>\n",
       "    <tr>\n",
       "      <th>UNIQUE_VALUES</th>\n",
       "      <td>52</td>\n",
       "      <td>5926</td>\n",
       "      <td>1923</td>\n",
       "      <td>3888</td>\n",
       "      <td>1815</td>\n",
       "      <td>3842</td>\n",
       "      <td>5</td>\n",
       "      <td>5</td>\n",
       "      <td>844</td>\n",
       "      <td>862</td>\n",
       "      <td>2</td>\n",
       "      <td>20640</td>\n",
       "    </tr>\n",
       "    <tr>\n",
       "      <th>CARDIN (%)</th>\n",
       "      <td>0.25</td>\n",
       "      <td>28.71</td>\n",
       "      <td>9.32</td>\n",
       "      <td>18.84</td>\n",
       "      <td>8.79</td>\n",
       "      <td>18.61</td>\n",
       "      <td>0.02</td>\n",
       "      <td>0.02</td>\n",
       "      <td>4.09</td>\n",
       "      <td>4.18</td>\n",
       "      <td>0.01</td>\n",
       "      <td>100.0</td>\n",
       "    </tr>\n",
       "  </tbody>\n",
       "</table>\n",
       "</div>"
      ],
      "text/plain": [
       "COL_N         housing_median_age total_rooms total_bedrooms population  \\\n",
       "DATA_TYPE                float64     float64        float64    float64   \n",
       "MISSINGS (%)                 0.0         0.0            1.0        0.0   \n",
       "UNIQUE_VALUES                 52        5926           1923       3888   \n",
       "CARDIN (%)                  0.25       28.71           9.32      18.84   \n",
       "\n",
       "COL_N         households median_house_value ocean_proximity income_cat  \\\n",
       "DATA_TYPE        float64            float64          object      int64   \n",
       "MISSINGS (%)         0.0                0.0             0.0        0.0   \n",
       "UNIQUE_VALUES       1815               3842               5          5   \n",
       "CARDIN (%)          8.79              18.61            0.02       0.02   \n",
       "\n",
       "COL_N         longitude latitude   NBA new_district_id  \n",
       "DATA_TYPE       float64  float64  bool          object  \n",
       "MISSINGS (%)        0.0      0.0   0.0             0.0  \n",
       "UNIQUE_VALUES       844      862     2           20640  \n",
       "CARDIN (%)         4.09     4.18  0.01           100.0  "
      ]
     },
     "execution_count": 114,
     "metadata": {},
     "output_type": "execute_result"
    }
   ],
   "source": [
    "data_report(housing)"
   ]
  },
  {
   "cell_type": "code",
   "execution_count": 115,
   "metadata": {},
   "outputs": [
    {
     "data": {
      "image/png": "[encoded data removed]",
      "text/plain": [
       "<Figure size 864x576 with 9 Axes>"
      ]
     },
     "metadata": {
      "needs_background": "light"
     },
     "output_type": "display_data"
    }
   ],
   "source": [
    "import matplotlib.pyplot as plt\n",
    "\n",
    "# extra code – the next 5 lines define the default font sizes\n",
    "plt.rc('font', size=14)\n",
    "plt.rc('axes', labelsize=14, titlesize=14)\n",
    "plt.rc('legend', fontsize=14)\n",
    "plt.rc('xtick', labelsize=10)\n",
    "plt.rc('ytick', labelsize=10)\n",
    "\n",
    "housing.hist(bins=50, figsize=(12, 8))\n",
    "#save_fig(\"attribute_histogram_plots\")  # extra code\n",
    "plt.show()"
   ]
  },
  {
   "cell_type": "code",
   "execution_count": 116,
   "metadata": {},
   "outputs": [
    {
     "data": {
      "text/plain": [
       "True     0.508043\n",
       "False    0.491957\n",
       "Name: NBA, dtype: float64"
      ]
     },
     "execution_count": 116,
     "metadata": {},
     "output_type": "execute_result"
    }
   ],
   "source": [
    "housing.NBA.value_counts(normalize = True)"
   ]
  },
  {
   "cell_type": "markdown",
   "metadata": {},
   "source": [
    "### Warning: Cuidado, sólo fijarse para saber que columnas son indices, ir viendo cuanto tengo que limpiar, e intentar identificar posible \"groundtruth\"/\"target\""
   ]
  },
  {
   "cell_type": "markdown",
   "metadata": {},
   "source": [
    "## A la vista de los datos, ¿podemos decir algo sobre el tipo de problema \"técnico\" o aproximación que vamos a realizar en cada caso?"
   ]
  },
  {
   "cell_type": "markdown",
   "metadata": {},
   "source": [
    "Es MUY IMPORTANTE conocer el tipo de problema de Machine Learning porque va a ser determinante para toda la analítica que viene a continuación"
   ]
  },
  {
   "cell_type": "markdown",
   "metadata": {},
   "source": [
    "# Problema Machine Learning\n",
    "\n",
    "\n",
    "<img src=\"./img/ml_types.png\" alt=\"drawing\" width=\"650\"/>\n",
    "\n",
    "#### Algoritmos supervisados\n",
    "Tenemos los datos etiquetados\n",
    "1. **Clasificación**: el target del problema es un conjunto de valores discretos. Dos opciones:\n",
    "    - Binaria: paga/no paga, fuga de cliente/no fuga, contrae enfermedad/no contrae\n",
    "    - Multiclase: clasificar fruta (manzanas, peras, naranjas...), vinos (tinto, blanco, rosado)\n",
    "2. **Regresión**: el objetivo es predecir una variable continua como: distancia, temperatura, ingresos.\n",
    "\n",
    "#### Algoritmos no supervisados\n",
    "Los datos no están etiquetados. Es el propio algoritmo el que detecta patrones en los datos y los separa.\n",
    "1. **Clustering**: separación automática en grupos, como por ejemplo segmentación de clientes\n",
    "2. **Detección de anomalías**: fraude\n",
    "\n",
    "Dentro de la clasificación anterior tendríamos los casos especiales de regresión con series temporales, o clasificación de imágenes/video con redes neuronales."
   ]
  },
  {
   "cell_type": "markdown",
   "metadata": {},
   "source": [
    " # Ahora sí, empezamos a \"trabajar\": Preprocesado"
   ]
  },
  {
   "cell_type": "markdown",
   "metadata": {},
   "source": [
    "<img src=\"./img/ml_pipeline_4.png\" alt=\"drawing\" width=\"700\"/>"
   ]
  },
  {
   "cell_type": "markdown",
   "metadata": {},
   "source": [
    "## Creamos un set de test y uno de training: La generalización"
   ]
  },
  {
   "cell_type": "code",
   "execution_count": 117,
   "metadata": {},
   "outputs": [],
   "source": [
    "from sklearn.model_selection import train_test_split\n",
    "\n",
    "train_set, test_set = train_test_split(housing, test_size=0.2, random_state=42)"
   ]
  },
  {
   "cell_type": "code",
   "execution_count": 118,
   "metadata": {},
   "outputs": [
    {
     "name": "stdout",
     "output_type": "stream",
     "text": [
      "Num_registros Train 16512\n",
      "Num_registros Test 4128\n"
     ]
    }
   ],
   "source": [
    "print(\"Num_registros Train\",len(train_set))\n",
    "print(\"Num_registros Test\", len(test_set))"
   ]
  },
  {
   "cell_type": "code",
   "execution_count": 120,
   "metadata": {},
   "outputs": [
    {
     "data": {
      "text/plain": [
       "<AxesSubplot:>"
      ]
     },
     "execution_count": 120,
     "metadata": {},
     "output_type": "execute_result"
    },
    {
     "data": {
      "image/png": "[encoded data removed]",
      "text/plain": [
       "<Figure size 864x576 with 1 Axes>"
      ]
     },
     "metadata": {
      "needs_background": "light"
     },
     "output_type": "display_data"
    }
   ],
   "source": [
    "plt.xlabel = \"median_house_value\"\n",
    "train_set.median_house_value.hist(bins=50, figsize=(12, 8))"
   ]
  },
  {
   "cell_type": "code",
   "execution_count": 121,
   "metadata": {},
   "outputs": [
    {
     "data": {
      "text/plain": [
       "<AxesSubplot:>"
      ]
     },
     "execution_count": 121,
     "metadata": {},
     "output_type": "execute_result"
    },
    {
     "data": {
      "image/png": "[encoded data removed]",
      "text/plain": [
       "<Figure size 864x576 with 1 Axes>"
      ]
     },
     "metadata": {
      "needs_background": "light"
     },
     "output_type": "display_data"
    }
   ],
   "source": [
    "test_set.median_house_value.hist(bins=50, figsize=(12, 8))"
   ]
  },
  {
   "cell_type": "code",
   "execution_count": 82,
   "metadata": {},
   "outputs": [
    {
     "data": {
      "text/plain": [
       "True     0.50751\n",
       "False    0.49249\n",
       "Name: NBA, dtype: float64"
      ]
     },
     "execution_count": 82,
     "metadata": {},
     "output_type": "execute_result"
    }
   ],
   "source": [
    "train_set.NBA.value_counts(normalize = True)"
   ]
  },
  {
   "cell_type": "code",
   "execution_count": 83,
   "metadata": {
    "scrolled": true
   },
   "outputs": [
    {
     "data": {
      "text/plain": [
       "True     0.510174\n",
       "False    0.489826\n",
       "Name: NBA, dtype: float64"
      ]
     },
     "execution_count": 83,
     "metadata": {},
     "output_type": "execute_result"
    }
   ],
   "source": [
    "test_set.NBA.value_counts(normalize = True)"
   ]
  },
  {
   "cell_type": "markdown",
   "metadata": {},
   "source": [
    "Vamos a hacer un mpoco de trampa, jejeje... ¿o no?"
   ]
  },
  {
   "cell_type": "code",
   "execution_count": 124,
   "metadata": {},
   "outputs": [],
   "source": [
    "strat_train_set, strat_test_set = train_test_split(\n",
    "    housing, test_size=0.2, stratify=housing[\"income_cat\"], random_state=42)"
   ]
  },
  {
   "cell_type": "code",
   "execution_count": 126,
   "metadata": {},
   "outputs": [
    {
     "data": {
      "text/plain": [
       "3    0.350594\n",
       "2    0.318859\n",
       "4    0.176296\n",
       "5    0.114462\n",
       "1    0.039789\n",
       "Name: income_cat, dtype: float64"
      ]
     },
     "execution_count": 126,
     "metadata": {},
     "output_type": "execute_result"
    }
   ],
   "source": [
    "strat_train_set[\"income_cat\"].value_counts() / len(strat_train_set)"
   ]
  },
  {
   "cell_type": "code",
   "execution_count": 125,
   "metadata": {
    "scrolled": true
   },
   "outputs": [
    {
     "data": {
      "text/plain": [
       "3    0.350533\n",
       "2    0.318798\n",
       "4    0.176357\n",
       "5    0.114341\n",
       "1    0.039971\n",
       "Name: income_cat, dtype: float64"
      ]
     },
     "execution_count": 125,
     "metadata": {},
     "output_type": "execute_result"
    }
   ],
   "source": [
    "strat_test_set[\"income_cat\"].value_counts() / len(strat_test_set)"
   ]
  },
  {
   "cell_type": "code",
   "execution_count": 127,
   "metadata": {},
   "outputs": [
    {
     "data": {
      "text/plain": [
       "<AxesSubplot:>"
      ]
     },
     "execution_count": 127,
     "metadata": {},
     "output_type": "execute_result"
    },
    {
     "data": {
      "image/png": "[encoded data removed]",
      "text/plain": [
       "<Figure size 864x576 with 1 Axes>"
      ]
     },
     "metadata": {
      "needs_background": "light"
     },
     "output_type": "display_data"
    }
   ],
   "source": [
    "plt.xlabel = \"median_house_value\"\n",
    "strat_train_set.median_house_value.hist(bins=50, figsize=(12, 8))\n",
    "strat_test_set.median_house_value.hist(bins=50, figsize=(12, 8))"
   ]
  },
  {
   "cell_type": "code",
   "execution_count": 128,
   "metadata": {},
   "outputs": [
    {
     "data": {
      "text/plain": [
       "True     0.505572\n",
       "False    0.494428\n",
       "Name: NBA, dtype: float64"
      ]
     },
     "execution_count": 128,
     "metadata": {},
     "output_type": "execute_result"
    }
   ],
   "source": [
    "strat_train_set.NBA.value_counts(normalize = True)"
   ]
  },
  {
   "cell_type": "code",
   "execution_count": 129,
   "metadata": {},
   "outputs": [
    {
     "data": {
      "text/plain": [
       "True     0.517926\n",
       "False    0.482074\n",
       "Name: NBA, dtype: float64"
      ]
     },
     "execution_count": 129,
     "metadata": {},
     "output_type": "execute_result"
    }
   ],
   "source": [
    "strat_test_set.NBA.value_counts(normalize = True)"
   ]
  },
  {
   "cell_type": "code",
   "execution_count": 135,
   "metadata": {},
   "outputs": [],
   "source": [
    "y_train_value = strat_train_set[\"median_house_value\"].copy()"
   ]
  },
  {
   "cell_type": "code",
   "execution_count": 136,
   "metadata": {},
   "outputs": [],
   "source": [
    "y_test_value = strat_test_set[\"median_house_value\"].copy()"
   ]
  },
  {
   "cell_type": "code",
   "execution_count": 137,
   "metadata": {},
   "outputs": [],
   "source": [
    "y_train_NBA = strat_train_set.NBA.apply(lambda row: 1 if row else 0)"
   ]
  },
  {
   "cell_type": "code",
   "execution_count": 138,
   "metadata": {},
   "outputs": [],
   "source": [
    "y_test_NBA = strat_test_set.NBA.apply(lambda row: 1 if row else 0)"
   ]
  },
  {
   "cell_type": "markdown",
   "metadata": {},
   "source": [
    "## Limpieza y adaptación de los datos existentes"
   ]
  },
  {
   "cell_type": "markdown",
   "metadata": {},
   "source": [
    "NOTA: Cada maestrillo tiene su librillo y puede seguir un orden diferente em los siguientes pasos hasta empezar a testar modelos. Hay quien prefiere seleccionar y/o crear features adicionales primero, y luego prepararlas, etc. El objetivo es definir todos los procesos de transformación y luego seguir el mismo orden con los datos de test, y en producción con los datos reales."
   ]
  },
  {
   "cell_type": "markdown",
   "metadata": {},
   "source": [
    "### Valores incompletos"
   ]
  },
  {
   "cell_type": "code",
   "execution_count": 568,
   "metadata": {},
   "outputs": [],
   "source": [
    "housing_train = strat_train_set.drop([\"median_house_value\",\"NBA\"], axis=1)\n"
   ]
  },
  {
   "cell_type": "markdown",
   "metadata": {},
   "source": [
    "### PREGUNTÓN: ¿Por qué no metemos NBA en los datos para el modelo de regresión y median_house_value en el de categorización?"
   ]
  },
  {
   "cell_type": "code",
   "execution_count": 180,
   "metadata": {},
   "outputs": [
    {
     "data": {
      "text/html": [
       "<div>\n",
       "<style scoped>\n",
       "    .dataframe tbody tr th:only-of-type {\n",
       "        vertical-align: middle;\n",
       "    }\n",
       "\n",
       "    .dataframe tbody tr th {\n",
       "        vertical-align: top;\n",
       "    }\n",
       "\n",
       "    .dataframe thead th {\n",
       "        text-align: right;\n",
       "    }\n",
       "</style>\n",
       "<table border=\"1\" class=\"dataframe\">\n",
       "  <thead>\n",
       "    <tr style=\"text-align: right;\">\n",
       "      <th>COL_N</th>\n",
       "      <th>housing_median_age</th>\n",
       "      <th>total_rooms</th>\n",
       "      <th>total_bedrooms</th>\n",
       "      <th>population</th>\n",
       "      <th>households</th>\n",
       "      <th>ocean_proximity</th>\n",
       "      <th>income_cat</th>\n",
       "      <th>longitude</th>\n",
       "      <th>latitude</th>\n",
       "      <th>NBA</th>\n",
       "      <th>new_district_id</th>\n",
       "    </tr>\n",
       "  </thead>\n",
       "  <tbody>\n",
       "    <tr>\n",
       "      <th>DATA_TYPE</th>\n",
       "      <td>float64</td>\n",
       "      <td>float64</td>\n",
       "      <td>float64</td>\n",
       "      <td>float64</td>\n",
       "      <td>float64</td>\n",
       "      <td>object</td>\n",
       "      <td>int64</td>\n",
       "      <td>float64</td>\n",
       "      <td>float64</td>\n",
       "      <td>bool</td>\n",
       "      <td>object</td>\n",
       "    </tr>\n",
       "    <tr>\n",
       "      <th>MISSINGS (%)</th>\n",
       "      <td>0.0</td>\n",
       "      <td>0.0</td>\n",
       "      <td>1.02</td>\n",
       "      <td>0.0</td>\n",
       "      <td>0.0</td>\n",
       "      <td>0.0</td>\n",
       "      <td>0.0</td>\n",
       "      <td>0.0</td>\n",
       "      <td>0.0</td>\n",
       "      <td>0.0</td>\n",
       "      <td>0.0</td>\n",
       "    </tr>\n",
       "    <tr>\n",
       "      <th>UNIQUE_VALUES</th>\n",
       "      <td>52</td>\n",
       "      <td>5473</td>\n",
       "      <td>1827</td>\n",
       "      <td>3640</td>\n",
       "      <td>1712</td>\n",
       "      <td>5</td>\n",
       "      <td>5</td>\n",
       "      <td>817</td>\n",
       "      <td>835</td>\n",
       "      <td>2</td>\n",
       "      <td>16512</td>\n",
       "    </tr>\n",
       "    <tr>\n",
       "      <th>CARDIN (%)</th>\n",
       "      <td>0.31</td>\n",
       "      <td>33.15</td>\n",
       "      <td>11.06</td>\n",
       "      <td>22.04</td>\n",
       "      <td>10.37</td>\n",
       "      <td>0.03</td>\n",
       "      <td>0.03</td>\n",
       "      <td>4.95</td>\n",
       "      <td>5.06</td>\n",
       "      <td>0.01</td>\n",
       "      <td>100.0</td>\n",
       "    </tr>\n",
       "  </tbody>\n",
       "</table>\n",
       "</div>"
      ],
      "text/plain": [
       "COL_N         housing_median_age total_rooms total_bedrooms population  \\\n",
       "DATA_TYPE                float64     float64        float64    float64   \n",
       "MISSINGS (%)                 0.0         0.0           1.02        0.0   \n",
       "UNIQUE_VALUES                 52        5473           1827       3640   \n",
       "CARDIN (%)                  0.31       33.15          11.06      22.04   \n",
       "\n",
       "COL_N         households ocean_proximity income_cat longitude latitude   NBA  \\\n",
       "DATA_TYPE        float64          object      int64   float64  float64  bool   \n",
       "MISSINGS (%)         0.0             0.0        0.0       0.0      0.0   0.0   \n",
       "UNIQUE_VALUES       1712               5          5       817      835     2   \n",
       "CARDIN (%)         10.37            0.03       0.03      4.95     5.06  0.01   \n",
       "\n",
       "COL_N         new_district_id  \n",
       "DATA_TYPE              object  \n",
       "MISSINGS (%)              0.0  \n",
       "UNIQUE_VALUES           16512  \n",
       "CARDIN (%)              100.0  "
      ]
     },
     "execution_count": 180,
     "metadata": {},
     "output_type": "execute_result"
    }
   ],
   "source": [
    "data_report(housing_train)"
   ]
  },
  {
   "cell_type": "markdown",
   "metadata": {},
   "source": [
    "NOTA: Existen varias opciones para tratar las features incompletas:  \n",
    "        1. Descartar las instancias\n",
    "        2. Descartar la feature\n",
    "        3. Imputarles un valor (media, mediana, etc)"
   ]
  },
  {
   "cell_type": "code",
   "execution_count": 181,
   "metadata": {},
   "outputs": [],
   "source": [
    "from sklearn.impute import SimpleImputer\n",
    "\n",
    "imputer = SimpleImputer(strategy=\"median\")"
   ]
  },
  {
   "cell_type": "code",
   "execution_count": 183,
   "metadata": {},
   "outputs": [],
   "source": [
    "total_bedrooms_null_idx = housing_train.isnull().any(axis=1)"
   ]
  },
  {
   "cell_type": "code",
   "execution_count": 184,
   "metadata": {},
   "outputs": [
    {
     "data": {
      "text/plain": [
       "NaN    168\n",
       "Name: total_bedrooms, dtype: int64"
      ]
     },
     "execution_count": 184,
     "metadata": {},
     "output_type": "execute_result"
    }
   ],
   "source": [
    "housing_train[total_bedrooms_null_idx].total_bedrooms.value_counts(dropna = False)"
   ]
  },
  {
   "cell_type": "code",
   "execution_count": 185,
   "metadata": {},
   "outputs": [],
   "source": [
    "housing_num = housing_train.select_dtypes(include=[np.number])\n",
    "X = imputer.fit_transform(housing_num)"
   ]
  },
  {
   "cell_type": "code",
   "execution_count": 186,
   "metadata": {},
   "outputs": [
    {
     "data": {
      "text/plain": [
       "array([  29.  , 2125.  ,  434.  , 1167.  ,  408.  ,    3.  , -118.51,\n",
       "         34.26])"
      ]
     },
     "execution_count": 186,
     "metadata": {},
     "output_type": "execute_result"
    }
   ],
   "source": [
    "imputer.statistics_"
   ]
  },
  {
   "cell_type": "code",
   "execution_count": 187,
   "metadata": {},
   "outputs": [
    {
     "data": {
      "text/plain": [
       "array(['housing_median_age', 'total_rooms', 'total_bedrooms',\n",
       "       'population', 'households', 'income_cat', 'longitude', 'latitude'],\n",
       "      dtype=object)"
      ]
     },
     "execution_count": 187,
     "metadata": {},
     "output_type": "execute_result"
    }
   ],
   "source": [
    "imputer.feature_names_in_"
   ]
  },
  {
   "cell_type": "code",
   "execution_count": 188,
   "metadata": {},
   "outputs": [],
   "source": [
    "housing_tr = pd.DataFrame(X, columns=housing_num.columns,\n",
    "                          index=housing_num.index)"
   ]
  },
  {
   "cell_type": "code",
   "execution_count": 189,
   "metadata": {},
   "outputs": [
    {
     "data": {
      "text/html": [
       "<div>\n",
       "<style scoped>\n",
       "    .dataframe tbody tr th:only-of-type {\n",
       "        vertical-align: middle;\n",
       "    }\n",
       "\n",
       "    .dataframe tbody tr th {\n",
       "        vertical-align: top;\n",
       "    }\n",
       "\n",
       "    .dataframe thead th {\n",
       "        text-align: right;\n",
       "    }\n",
       "</style>\n",
       "<table border=\"1\" class=\"dataframe\">\n",
       "  <thead>\n",
       "    <tr style=\"text-align: right;\">\n",
       "      <th></th>\n",
       "      <th>housing_median_age</th>\n",
       "      <th>total_rooms</th>\n",
       "      <th>total_bedrooms</th>\n",
       "      <th>population</th>\n",
       "      <th>households</th>\n",
       "      <th>income_cat</th>\n",
       "      <th>longitude</th>\n",
       "      <th>latitude</th>\n",
       "    </tr>\n",
       "  </thead>\n",
       "  <tbody>\n",
       "    <tr>\n",
       "      <th>14452</th>\n",
       "      <td>15.0</td>\n",
       "      <td>5343.0</td>\n",
       "      <td>434.0</td>\n",
       "      <td>2503.0</td>\n",
       "      <td>902.0</td>\n",
       "      <td>3.0</td>\n",
       "      <td>-120.67</td>\n",
       "      <td>40.50</td>\n",
       "    </tr>\n",
       "    <tr>\n",
       "      <th>18217</th>\n",
       "      <td>35.0</td>\n",
       "      <td>2093.0</td>\n",
       "      <td>434.0</td>\n",
       "      <td>1755.0</td>\n",
       "      <td>403.0</td>\n",
       "      <td>3.0</td>\n",
       "      <td>-117.96</td>\n",
       "      <td>34.03</td>\n",
       "    </tr>\n",
       "    <tr>\n",
       "      <th>11889</th>\n",
       "      <td>33.0</td>\n",
       "      <td>1348.0</td>\n",
       "      <td>434.0</td>\n",
       "      <td>1098.0</td>\n",
       "      <td>257.0</td>\n",
       "      <td>3.0</td>\n",
       "      <td>-118.05</td>\n",
       "      <td>34.04</td>\n",
       "    </tr>\n",
       "    <tr>\n",
       "      <th>20325</th>\n",
       "      <td>15.0</td>\n",
       "      <td>4260.0</td>\n",
       "      <td>434.0</td>\n",
       "      <td>1701.0</td>\n",
       "      <td>669.0</td>\n",
       "      <td>4.0</td>\n",
       "      <td>-118.88</td>\n",
       "      <td>34.17</td>\n",
       "    </tr>\n",
       "    <tr>\n",
       "      <th>14360</th>\n",
       "      <td>8.0</td>\n",
       "      <td>1266.0</td>\n",
       "      <td>434.0</td>\n",
       "      <td>375.0</td>\n",
       "      <td>183.0</td>\n",
       "      <td>5.0</td>\n",
       "      <td>-117.87</td>\n",
       "      <td>33.62</td>\n",
       "    </tr>\n",
       "    <tr>\n",
       "      <th>...</th>\n",
       "      <td>...</td>\n",
       "      <td>...</td>\n",
       "      <td>...</td>\n",
       "      <td>...</td>\n",
       "      <td>...</td>\n",
       "      <td>...</td>\n",
       "      <td>...</td>\n",
       "      <td>...</td>\n",
       "    </tr>\n",
       "    <tr>\n",
       "      <th>2348</th>\n",
       "      <td>14.0</td>\n",
       "      <td>2313.0</td>\n",
       "      <td>434.0</td>\n",
       "      <td>954.0</td>\n",
       "      <td>397.0</td>\n",
       "      <td>3.0</td>\n",
       "      <td>-122.70</td>\n",
       "      <td>38.35</td>\n",
       "    </tr>\n",
       "    <tr>\n",
       "      <th>366</th>\n",
       "      <td>44.0</td>\n",
       "      <td>1819.0</td>\n",
       "      <td>434.0</td>\n",
       "      <td>1137.0</td>\n",
       "      <td>354.0</td>\n",
       "      <td>3.0</td>\n",
       "      <td>-122.50</td>\n",
       "      <td>37.75</td>\n",
       "    </tr>\n",
       "    <tr>\n",
       "      <th>18241</th>\n",
       "      <td>39.0</td>\n",
       "      <td>2855.0</td>\n",
       "      <td>434.0</td>\n",
       "      <td>1217.0</td>\n",
       "      <td>562.0</td>\n",
       "      <td>3.0</td>\n",
       "      <td>-121.44</td>\n",
       "      <td>38.54</td>\n",
       "    </tr>\n",
       "    <tr>\n",
       "      <th>18493</th>\n",
       "      <td>22.0</td>\n",
       "      <td>894.0</td>\n",
       "      <td>434.0</td>\n",
       "      <td>830.0</td>\n",
       "      <td>202.0</td>\n",
       "      <td>3.0</td>\n",
       "      <td>-116.21</td>\n",
       "      <td>33.75</td>\n",
       "    </tr>\n",
       "    <tr>\n",
       "      <th>16519</th>\n",
       "      <td>16.0</td>\n",
       "      <td>4632.0</td>\n",
       "      <td>434.0</td>\n",
       "      <td>3038.0</td>\n",
       "      <td>727.0</td>\n",
       "      <td>4.0</td>\n",
       "      <td>-117.86</td>\n",
       "      <td>34.01</td>\n",
       "    </tr>\n",
       "  </tbody>\n",
       "</table>\n",
       "<p>168 rows × 8 columns</p>\n",
       "</div>"
      ],
      "text/plain": [
       "       housing_median_age  total_rooms  total_bedrooms  population  \\\n",
       "14452                15.0       5343.0           434.0      2503.0   \n",
       "18217                35.0       2093.0           434.0      1755.0   \n",
       "11889                33.0       1348.0           434.0      1098.0   \n",
       "20325                15.0       4260.0           434.0      1701.0   \n",
       "14360                 8.0       1266.0           434.0       375.0   \n",
       "...                   ...          ...             ...         ...   \n",
       "2348                 14.0       2313.0           434.0       954.0   \n",
       "366                  44.0       1819.0           434.0      1137.0   \n",
       "18241                39.0       2855.0           434.0      1217.0   \n",
       "18493                22.0        894.0           434.0       830.0   \n",
       "16519                16.0       4632.0           434.0      3038.0   \n",
       "\n",
       "       households  income_cat  longitude  latitude  \n",
       "14452       902.0         3.0    -120.67     40.50  \n",
       "18217       403.0         3.0    -117.96     34.03  \n",
       "11889       257.0         3.0    -118.05     34.04  \n",
       "20325       669.0         4.0    -118.88     34.17  \n",
       "14360       183.0         5.0    -117.87     33.62  \n",
       "...           ...         ...        ...       ...  \n",
       "2348        397.0         3.0    -122.70     38.35  \n",
       "366         354.0         3.0    -122.50     37.75  \n",
       "18241       562.0         3.0    -121.44     38.54  \n",
       "18493       202.0         3.0    -116.21     33.75  \n",
       "16519       727.0         4.0    -117.86     34.01  \n",
       "\n",
       "[168 rows x 8 columns]"
      ]
     },
     "execution_count": 189,
     "metadata": {},
     "output_type": "execute_result"
    }
   ],
   "source": [
    "housing_tr[total_bedrooms_null_idx]"
   ]
  },
  {
   "cell_type": "markdown",
   "metadata": {},
   "source": [
    "Como en los cursos de cocina, hemos probado el imputer, nos gusta y lo dejamos ahí preparadito para al final juntarlo todo"
   ]
  },
  {
   "cell_type": "markdown",
   "metadata": {},
   "source": [
    "### Categóricas y Texto"
   ]
  },
  {
   "cell_type": "markdown",
   "metadata": {},
   "source": [
    "NOTA: No siempre tendremos que \"convertir\" las categóricas y las textuales, pero no es mala práctica porque en general en DL siempre haremos algún tipo de conversión-encoding"
   ]
  },
  {
   "cell_type": "code",
   "execution_count": 178,
   "metadata": {},
   "outputs": [
    {
     "data": {
      "text/html": [
       "<div>\n",
       "<style scoped>\n",
       "    .dataframe tbody tr th:only-of-type {\n",
       "        vertical-align: middle;\n",
       "    }\n",
       "\n",
       "    .dataframe tbody tr th {\n",
       "        vertical-align: top;\n",
       "    }\n",
       "\n",
       "    .dataframe thead th {\n",
       "        text-align: right;\n",
       "    }\n",
       "</style>\n",
       "<table border=\"1\" class=\"dataframe\">\n",
       "  <thead>\n",
       "    <tr style=\"text-align: right;\">\n",
       "      <th>COL_N</th>\n",
       "      <th>housing_median_age</th>\n",
       "      <th>total_rooms</th>\n",
       "      <th>total_bedrooms</th>\n",
       "      <th>population</th>\n",
       "      <th>households</th>\n",
       "      <th>ocean_proximity</th>\n",
       "      <th>income_cat</th>\n",
       "      <th>longitude</th>\n",
       "      <th>latitude</th>\n",
       "      <th>NBA</th>\n",
       "      <th>new_district_id</th>\n",
       "    </tr>\n",
       "  </thead>\n",
       "  <tbody>\n",
       "    <tr>\n",
       "      <th>DATA_TYPE</th>\n",
       "      <td>float64</td>\n",
       "      <td>float64</td>\n",
       "      <td>float64</td>\n",
       "      <td>float64</td>\n",
       "      <td>float64</td>\n",
       "      <td>object</td>\n",
       "      <td>int64</td>\n",
       "      <td>float64</td>\n",
       "      <td>float64</td>\n",
       "      <td>bool</td>\n",
       "      <td>object</td>\n",
       "    </tr>\n",
       "    <tr>\n",
       "      <th>MISSINGS (%)</th>\n",
       "      <td>0.0</td>\n",
       "      <td>0.0</td>\n",
       "      <td>1.02</td>\n",
       "      <td>0.0</td>\n",
       "      <td>0.0</td>\n",
       "      <td>0.0</td>\n",
       "      <td>0.0</td>\n",
       "      <td>0.0</td>\n",
       "      <td>0.0</td>\n",
       "      <td>0.0</td>\n",
       "      <td>0.0</td>\n",
       "    </tr>\n",
       "    <tr>\n",
       "      <th>UNIQUE_VALUES</th>\n",
       "      <td>52</td>\n",
       "      <td>5473</td>\n",
       "      <td>1827</td>\n",
       "      <td>3640</td>\n",
       "      <td>1712</td>\n",
       "      <td>5</td>\n",
       "      <td>5</td>\n",
       "      <td>817</td>\n",
       "      <td>835</td>\n",
       "      <td>2</td>\n",
       "      <td>16512</td>\n",
       "    </tr>\n",
       "    <tr>\n",
       "      <th>CARDIN (%)</th>\n",
       "      <td>0.31</td>\n",
       "      <td>33.15</td>\n",
       "      <td>11.06</td>\n",
       "      <td>22.04</td>\n",
       "      <td>10.37</td>\n",
       "      <td>0.03</td>\n",
       "      <td>0.03</td>\n",
       "      <td>4.95</td>\n",
       "      <td>5.06</td>\n",
       "      <td>0.01</td>\n",
       "      <td>100.0</td>\n",
       "    </tr>\n",
       "  </tbody>\n",
       "</table>\n",
       "</div>"
      ],
      "text/plain": [
       "COL_N         housing_median_age total_rooms total_bedrooms population  \\\n",
       "DATA_TYPE                float64     float64        float64    float64   \n",
       "MISSINGS (%)                 0.0         0.0           1.02        0.0   \n",
       "UNIQUE_VALUES                 52        5473           1827       3640   \n",
       "CARDIN (%)                  0.31       33.15          11.06      22.04   \n",
       "\n",
       "COL_N         households ocean_proximity income_cat longitude latitude   NBA  \\\n",
       "DATA_TYPE        float64          object      int64   float64  float64  bool   \n",
       "MISSINGS (%)         0.0             0.0        0.0       0.0      0.0   0.0   \n",
       "UNIQUE_VALUES       1712               5          5       817      835     2   \n",
       "CARDIN (%)         10.37            0.03       0.03      4.95     5.06  0.01   \n",
       "\n",
       "COL_N         new_district_id  \n",
       "DATA_TYPE              object  \n",
       "MISSINGS (%)              0.0  \n",
       "UNIQUE_VALUES           16512  \n",
       "CARDIN (%)              100.0  "
      ]
     },
     "execution_count": 178,
     "metadata": {},
     "output_type": "execute_result"
    }
   ],
   "source": [
    "data_report(housing_train)"
   ]
  },
  {
   "cell_type": "markdown",
   "metadata": {},
   "source": [
    "Tenemos que tratar... ocean_proximity"
   ]
  },
  {
   "cell_type": "markdown",
   "metadata": {},
   "source": [
    "¿Merece la pena?"
   ]
  },
  {
   "cell_type": "code",
   "execution_count": 190,
   "metadata": {},
   "outputs": [],
   "source": [
    "housing_graph = strat_train_set.copy()"
   ]
  },
  {
   "cell_type": "code",
   "execution_count": 191,
   "metadata": {},
   "outputs": [
    {
     "data": {
      "image/png": "[encoded data removed]",
      "text/plain": [
       "<Figure size 432x288 with 1 Axes>"
      ]
     },
     "metadata": {
      "needs_background": "light"
     },
     "output_type": "display_data"
    }
   ],
   "source": [
    "housing_graph.plot(kind=\"scatter\", x=\"longitude\", y=\"latitude\", grid=True, alpha=0.2)\n",
    "plt.show()"
   ]
  },
  {
   "cell_type": "code",
   "execution_count": 194,
   "metadata": {},
   "outputs": [
    {
     "data": {
      "image/png": "[encoded data removed]",
      "text/plain": [
       "<Figure size 720x504 with 2 Axes>"
      ]
     },
     "metadata": {
      "needs_background": "light"
     },
     "output_type": "display_data"
    }
   ],
   "source": [
    "housing_graph.plot(kind=\"scatter\", x=\"longitude\", y=\"latitude\", grid=True,\n",
    "             s=housing_graph[\"population\"] / 100, label=\"population\",\n",
    "             c=\"median_house_value\", cmap=\"jet\", colorbar=True,\n",
    "             legend=True, sharex=False, figsize=(10, 7))\n",
    "plt.show()"
   ]
  },
  {
   "cell_type": "code",
   "execution_count": 202,
   "metadata": {},
   "outputs": [
    {
     "name": "stdout",
     "output_type": "stream",
     "text": [
      "Downloading california.png\n"
     ]
    },
    {
     "data": {
      "image/png": "[encoded data removed]",
      "text/plain": [
       "<Figure size 720x504 with 2 Axes>"
      ]
     },
     "metadata": {
      "needs_background": "light"
     },
     "output_type": "display_data"
    }
   ],
   "source": [
    "# SOLO POR SI ALGUIEN NO LO VE\n",
    "# extra code – this cell generates the first figure in the chapter\n",
    "\n",
    "# Download the California image\n",
    "import urllib.request\n",
    "from pathlib import Path\n",
    "IMAGES_PATH = Path() / \"img\"\n",
    "filename = \"california.png\"\n",
    "homl3_root = \"https://github.com/ageron/handson-ml3/raw/main/\"\n",
    "url = homl3_root + \"images/end_to_end_project/\" + filename\n",
    "print(\"Downloading\", filename)\n",
    "urllib.request.urlretrieve(url, IMAGES_PATH / filename)\n",
    "\n",
    "housing_renamed = housing.rename(columns={\n",
    "    \"latitude\": \"Latitude\", \"longitude\": \"Longitude\",\n",
    "    \"population\": \"Population\",\n",
    "    \"median_house_value\": \"Median house value (ᴜsᴅ)\"})\n",
    "housing_renamed.plot(\n",
    "             kind=\"scatter\", x=\"Longitude\", y=\"Latitude\",\n",
    "             s=housing_renamed[\"Population\"] / 100, label=\"Population\",\n",
    "             c=\"Median house value (ᴜsᴅ)\", cmap=\"jet\", colorbar=True,\n",
    "             legend=True, sharex=False, figsize=(10, 7))\n",
    "\n",
    "california_img = plt.imread(IMAGES_PATH / filename)\n",
    "axis = -124.55, -113.95, 32.45, 42.05\n",
    "plt.axis(axis)\n",
    "plt.imshow(california_img, extent=axis)\n",
    "plt.show()"
   ]
  },
  {
   "cell_type": "code",
   "execution_count": 208,
   "metadata": {},
   "outputs": [
    {
     "data": {
      "text/html": [
       "<div>\n",
       "<style scoped>\n",
       "    .dataframe tbody tr th:only-of-type {\n",
       "        vertical-align: middle;\n",
       "    }\n",
       "\n",
       "    .dataframe tbody tr th {\n",
       "        vertical-align: top;\n",
       "    }\n",
       "\n",
       "    .dataframe thead th {\n",
       "        text-align: right;\n",
       "    }\n",
       "</style>\n",
       "<table border=\"1\" class=\"dataframe\">\n",
       "  <thead>\n",
       "    <tr style=\"text-align: right;\">\n",
       "      <th></th>\n",
       "      <th>ocean_proximity</th>\n",
       "    </tr>\n",
       "  </thead>\n",
       "  <tbody>\n",
       "    <tr>\n",
       "      <th>13096</th>\n",
       "      <td>NEAR BAY</td>\n",
       "    </tr>\n",
       "    <tr>\n",
       "      <th>14973</th>\n",
       "      <td>&lt;1H OCEAN</td>\n",
       "    </tr>\n",
       "    <tr>\n",
       "      <th>3785</th>\n",
       "      <td>INLAND</td>\n",
       "    </tr>\n",
       "    <tr>\n",
       "      <th>14689</th>\n",
       "      <td>INLAND</td>\n",
       "    </tr>\n",
       "    <tr>\n",
       "      <th>20507</th>\n",
       "      <td>NEAR OCEAN</td>\n",
       "    </tr>\n",
       "    <tr>\n",
       "      <th>1286</th>\n",
       "      <td>INLAND</td>\n",
       "    </tr>\n",
       "    <tr>\n",
       "      <th>18078</th>\n",
       "      <td>&lt;1H OCEAN</td>\n",
       "    </tr>\n",
       "    <tr>\n",
       "      <th>4396</th>\n",
       "      <td>NEAR BAY</td>\n",
       "    </tr>\n",
       "  </tbody>\n",
       "</table>\n",
       "</div>"
      ],
      "text/plain": [
       "      ocean_proximity\n",
       "13096        NEAR BAY\n",
       "14973       <1H OCEAN\n",
       "3785           INLAND\n",
       "14689          INLAND\n",
       "20507      NEAR OCEAN\n",
       "1286           INLAND\n",
       "18078       <1H OCEAN\n",
       "4396         NEAR BAY"
      ]
     },
     "execution_count": 208,
     "metadata": {},
     "output_type": "execute_result"
    }
   ],
   "source": [
    "housing_cat = housing_train[[\"ocean_proximity\"]]\n",
    "housing_cat.head(8)"
   ]
  },
  {
   "cell_type": "code",
   "execution_count": 220,
   "metadata": {},
   "outputs": [],
   "source": [
    "from sklearn.preprocessing import OneHotEncoder\n",
    "\n",
    "cat_encoder = OneHotEncoder()\n",
    "housing_cat_1hot = cat_encoder.fit_transform(housing_cat)"
   ]
  },
  {
   "cell_type": "code",
   "execution_count": 223,
   "metadata": {},
   "outputs": [
    {
     "data": {
      "text/plain": [
       "<16512x5 sparse matrix of type '<class 'numpy.float64'>'\n",
       "\twith 16512 stored elements in Compressed Sparse Row format>"
      ]
     },
     "execution_count": 223,
     "metadata": {},
     "output_type": "execute_result"
    }
   ],
   "source": [
    "housing_cat_1hot"
   ]
  },
  {
   "cell_type": "code",
   "execution_count": 224,
   "metadata": {},
   "outputs": [],
   "source": [
    "cat_encoder = OneHotEncoder(sparse=False)\n",
    "df_housing_cat_1hot = pd.DataFrame(cat_encoder.fit_transform(housing_cat), columns= cat_encoder.get_feature_names_out())"
   ]
  },
  {
   "cell_type": "code",
   "execution_count": 226,
   "metadata": {},
   "outputs": [
    {
     "data": {
      "text/html": [
       "<div>\n",
       "<style scoped>\n",
       "    .dataframe tbody tr th:only-of-type {\n",
       "        vertical-align: middle;\n",
       "    }\n",
       "\n",
       "    .dataframe tbody tr th {\n",
       "        vertical-align: top;\n",
       "    }\n",
       "\n",
       "    .dataframe thead th {\n",
       "        text-align: right;\n",
       "    }\n",
       "</style>\n",
       "<table border=\"1\" class=\"dataframe\">\n",
       "  <thead>\n",
       "    <tr style=\"text-align: right;\">\n",
       "      <th></th>\n",
       "      <th>ocean_proximity_&lt;1H OCEAN</th>\n",
       "      <th>ocean_proximity_INLAND</th>\n",
       "      <th>ocean_proximity_ISLAND</th>\n",
       "      <th>ocean_proximity_NEAR BAY</th>\n",
       "      <th>ocean_proximity_NEAR OCEAN</th>\n",
       "    </tr>\n",
       "  </thead>\n",
       "  <tbody>\n",
       "    <tr>\n",
       "      <th>0</th>\n",
       "      <td>0.0</td>\n",
       "      <td>0.0</td>\n",
       "      <td>0.0</td>\n",
       "      <td>1.0</td>\n",
       "      <td>0.0</td>\n",
       "    </tr>\n",
       "    <tr>\n",
       "      <th>1</th>\n",
       "      <td>1.0</td>\n",
       "      <td>0.0</td>\n",
       "      <td>0.0</td>\n",
       "      <td>0.0</td>\n",
       "      <td>0.0</td>\n",
       "    </tr>\n",
       "    <tr>\n",
       "      <th>2</th>\n",
       "      <td>0.0</td>\n",
       "      <td>1.0</td>\n",
       "      <td>0.0</td>\n",
       "      <td>0.0</td>\n",
       "      <td>0.0</td>\n",
       "    </tr>\n",
       "    <tr>\n",
       "      <th>3</th>\n",
       "      <td>0.0</td>\n",
       "      <td>1.0</td>\n",
       "      <td>0.0</td>\n",
       "      <td>0.0</td>\n",
       "      <td>0.0</td>\n",
       "    </tr>\n",
       "    <tr>\n",
       "      <th>4</th>\n",
       "      <td>0.0</td>\n",
       "      <td>0.0</td>\n",
       "      <td>0.0</td>\n",
       "      <td>0.0</td>\n",
       "      <td>1.0</td>\n",
       "    </tr>\n",
       "    <tr>\n",
       "      <th>5</th>\n",
       "      <td>0.0</td>\n",
       "      <td>1.0</td>\n",
       "      <td>0.0</td>\n",
       "      <td>0.0</td>\n",
       "      <td>0.0</td>\n",
       "    </tr>\n",
       "    <tr>\n",
       "      <th>6</th>\n",
       "      <td>1.0</td>\n",
       "      <td>0.0</td>\n",
       "      <td>0.0</td>\n",
       "      <td>0.0</td>\n",
       "      <td>0.0</td>\n",
       "    </tr>\n",
       "    <tr>\n",
       "      <th>7</th>\n",
       "      <td>0.0</td>\n",
       "      <td>0.0</td>\n",
       "      <td>0.0</td>\n",
       "      <td>1.0</td>\n",
       "      <td>0.0</td>\n",
       "    </tr>\n",
       "  </tbody>\n",
       "</table>\n",
       "</div>"
      ],
      "text/plain": [
       "   ocean_proximity_<1H OCEAN  ocean_proximity_INLAND  ocean_proximity_ISLAND  \\\n",
       "0                        0.0                     0.0                     0.0   \n",
       "1                        1.0                     0.0                     0.0   \n",
       "2                        0.0                     1.0                     0.0   \n",
       "3                        0.0                     1.0                     0.0   \n",
       "4                        0.0                     0.0                     0.0   \n",
       "5                        0.0                     1.0                     0.0   \n",
       "6                        1.0                     0.0                     0.0   \n",
       "7                        0.0                     0.0                     0.0   \n",
       "\n",
       "   ocean_proximity_NEAR BAY  ocean_proximity_NEAR OCEAN  \n",
       "0                       1.0                         0.0  \n",
       "1                       0.0                         0.0  \n",
       "2                       0.0                         0.0  \n",
       "3                       0.0                         0.0  \n",
       "4                       0.0                         1.0  \n",
       "5                       0.0                         0.0  \n",
       "6                       0.0                         0.0  \n",
       "7                       1.0                         0.0  "
      ]
     },
     "execution_count": 226,
     "metadata": {},
     "output_type": "execute_result"
    }
   ],
   "source": [
    "df_housing_cat_1hot.head(8)"
   ]
  },
  {
   "cell_type": "code",
   "execution_count": 212,
   "metadata": {
    "scrolled": true
   },
   "outputs": [
    {
     "data": {
      "text/plain": [
       "[array(['<1H OCEAN', 'INLAND', 'ISLAND', 'NEAR BAY', 'NEAR OCEAN'],\n",
       "       dtype=object)]"
      ]
     },
     "execution_count": 212,
     "metadata": {},
     "output_type": "execute_result"
    }
   ],
   "source": [
    "cat_encoder.categories_"
   ]
  },
  {
   "cell_type": "code",
   "execution_count": 214,
   "metadata": {},
   "outputs": [
    {
     "data": {
      "text/plain": [
       "array(['ocean_proximity_<1H OCEAN', 'ocean_proximity_INLAND',\n",
       "       'ocean_proximity_ISLAND', 'ocean_proximity_NEAR BAY',\n",
       "       'ocean_proximity_NEAR OCEAN'], dtype=object)"
      ]
     },
     "execution_count": 214,
     "metadata": {},
     "output_type": "execute_result"
    }
   ],
   "source": [
    "cat_encoder.get_feature_names_out()"
   ]
  },
  {
   "cell_type": "code",
   "execution_count": 215,
   "metadata": {},
   "outputs": [
    {
     "data": {
      "text/plain": [
       "<16512x5 sparse matrix of type '<class 'numpy.float64'>'\n",
       "\twith 16512 stored elements in Compressed Sparse Row format>"
      ]
     },
     "execution_count": 215,
     "metadata": {},
     "output_type": "execute_result"
    }
   ],
   "source": [
    "housing_cat_1hot"
   ]
  },
  {
   "cell_type": "markdown",
   "metadata": {},
   "source": [
    "# Selección de Features y generación de features"
   ]
  },
  {
   "cell_type": "markdown",
   "metadata": {},
   "source": [
    "### Reducción de Features"
   ]
  },
  {
   "cell_type": "markdown",
   "metadata": {},
   "source": [
    "En ocasiones es casi imposible llevar a cabo un análisis exploratorio si tienes una gran cantidad de features. Si ese es tu caso, deberías seguir alguna de las recomendaciones de este apartado.\n",
    "\n",
    "Básicamente lo que haremos es eliminar algunas features. ¿Qué criterios seguiremos?\n",
    "\n",
    "    Muchos missings: a partir de un 40% de missings ya son features casi insalvables\n",
    "    Features repetidas: columnas repetidas. Asegúrate bien de que sea así.\n",
    "    Identificadores: ids, nombres únicos. Son features que no aportan nada\n",
    "\n",
    "    Feature selection\n",
    "\n",
    "    4.1 Correlación lineal: coeficientes de Pearson entre [-0.1, +0.1] respecto a nuestro target, suelen ser variables que no tiene nada que ver con el mismo.\n",
    "\n",
    "    4.2 Feature importance: podemos tirar un modelo rápidamente que nos de la importancia de cada feature respecto al target: RandomForest se suele usar.\n",
    "\n",
    "    4.3 Varianza: variables que no tienen varianza no nos interesan. El caso extremo sería una constante. No nos aporta nada. Es útil para ver que las variables pueden servir para el modelo pero no nos da una relación con el target.\n",
    "\n",
    "    4.4 Estadísticos: la función de sklearn SelectKBest permite aplicar un test estadístico entre el target y cada uno de las features para determinar qué variables están relacionadas.\n",
    "\n",
    "En este momento lo que se pretende es eliminar features que sabes con certeza que son muy inútiles, por lo que los criterios para eliminar features en este punto del análisis serán mucho menos restrictivos que en posteriores (no queremos cargarnos información sin conocer bien el dataset). De momento, será suficiente con seguir los puntos 1, 2 y 3. El punto 4 se aplicarán si la cantidad de features es muy grande, por ejemplo más de 50 features."
   ]
  },
  {
   "cell_type": "code",
   "execution_count": 228,
   "metadata": {},
   "outputs": [],
   "source": [
    "corr_matrix = strat_train_set.corr()"
   ]
  },
  {
   "cell_type": "code",
   "execution_count": 229,
   "metadata": {},
   "outputs": [
    {
     "data": {
      "text/plain": [
       "median_house_value    1.000000\n",
       "income_cat            0.642887\n",
       "total_rooms           0.137455\n",
       "housing_median_age    0.102175\n",
       "households            0.071426\n",
       "total_bedrooms        0.054635\n",
       "population           -0.020153\n",
       "longitude            -0.050859\n",
       "latitude             -0.139584\n",
       "NBA                  -0.458082\n",
       "Name: median_house_value, dtype: float64"
      ]
     },
     "execution_count": 229,
     "metadata": {},
     "output_type": "execute_result"
    }
   ],
   "source": [
    "corr_matrix[\"median_house_value\"].sort_values(ascending=False)"
   ]
  },
  {
   "cell_type": "code",
   "execution_count": 233,
   "metadata": {},
   "outputs": [
    {
     "data": {
      "image/png": "[encoded data removed]",
      "text/plain": [
       "<Figure size 864x576 with 16 Axes>"
      ]
     },
     "metadata": {
      "needs_background": "light"
     },
     "output_type": "display_data"
    }
   ],
   "source": [
    "from pandas.plotting import scatter_matrix\n",
    "\n",
    "attributes = [\"median_house_value\", \"income_cat\", \"total_rooms\",\n",
    "              \"housing_median_age\"]\n",
    "scatter_matrix(housing[attributes], figsize=(12, 8))\n",
    "#save_fig(\"scatter_matrix_plot\")  # extra code\n",
    "plt.show()"
   ]
  },
  {
   "cell_type": "markdown",
   "metadata": {},
   "source": [
    "### Creación de nuevas features"
   ]
  },
  {
   "cell_type": "code",
   "execution_count": 238,
   "metadata": {},
   "outputs": [],
   "source": [
    "housing_new_features = strat_train_set.copy()"
   ]
  },
  {
   "cell_type": "code",
   "execution_count": 239,
   "metadata": {},
   "outputs": [],
   "source": [
    "housing_new_features[\"rooms_per_house\"] = housing_new_features[\"total_rooms\"] / housing_new_features[\"households\"]\n",
    "housing_new_features[\"bedrooms_ratio\"] = housing_new_features[\"total_bedrooms\"] / housing_new_features[\"total_rooms\"]\n",
    "housing_new_features[\"people_per_house\"] = housing_new_features[\"population\"] / housing_new_features[\"households\"]"
   ]
  },
  {
   "cell_type": "code",
   "execution_count": 240,
   "metadata": {},
   "outputs": [
    {
     "data": {
      "text/plain": [
       "median_house_value    1.000000\n",
       "income_cat            0.642887\n",
       "rooms_per_house       0.143663\n",
       "total_rooms           0.137455\n",
       "housing_median_age    0.102175\n",
       "households            0.071426\n",
       "total_bedrooms        0.054635\n",
       "population           -0.020153\n",
       "people_per_house     -0.038224\n",
       "longitude            -0.050859\n",
       "latitude             -0.139584\n",
       "bedrooms_ratio       -0.256397\n",
       "NBA                  -0.458082\n",
       "Name: median_house_value, dtype: float64"
      ]
     },
     "execution_count": 240,
     "metadata": {},
     "output_type": "execute_result"
    }
   ],
   "source": [
    "corr_matrix = housing_new_features.corr()\n",
    "corr_matrix[\"median_house_value\"].sort_values(ascending=False)"
   ]
  },
  {
   "cell_type": "markdown",
   "metadata": {},
   "source": [
    "¿Alguna que merezca la pena?"
   ]
  },
  {
   "cell_type": "markdown",
   "metadata": {},
   "source": [
    "De nuevo, lo dejamos aparte \"en la mesa\" para luego meter todos los procesados en un pipeline y así poder sistematizar su aplicación"
   ]
  },
  {
   "cell_type": "markdown",
   "metadata": {},
   "source": [
    "Ya casi estamos a puntito de cocinar..."
   ]
  },
  {
   "cell_type": "markdown",
   "metadata": {},
   "source": [
    "<img src=\"./img/ml_pipeline_5.png\" alt=\"drawing\" width=\"700\"/>"
   ]
  },
  {
   "cell_type": "markdown",
   "metadata": {},
   "source": [
    "### Escalado y transformacion de Features"
   ]
  },
  {
   "cell_type": "code",
   "execution_count": 242,
   "metadata": {},
   "outputs": [],
   "source": [
    "from sklearn.preprocessing import StandardScaler\n",
    "\n",
    "std_scaler = StandardScaler()\n",
    "housing_num_std_scaled = std_scaler.fit_transform(housing_num)"
   ]
  },
  {
   "cell_type": "code",
   "execution_count": 243,
   "metadata": {},
   "outputs": [
    {
     "data": {
      "text/html": [
       "<div>\n",
       "<style scoped>\n",
       "    .dataframe tbody tr th:only-of-type {\n",
       "        vertical-align: middle;\n",
       "    }\n",
       "\n",
       "    .dataframe tbody tr th {\n",
       "        vertical-align: top;\n",
       "    }\n",
       "\n",
       "    .dataframe thead th {\n",
       "        text-align: right;\n",
       "    }\n",
       "</style>\n",
       "<table border=\"1\" class=\"dataframe\">\n",
       "  <thead>\n",
       "    <tr style=\"text-align: right;\">\n",
       "      <th></th>\n",
       "      <th>housing_median_age</th>\n",
       "      <th>total_rooms</th>\n",
       "      <th>total_bedrooms</th>\n",
       "      <th>population</th>\n",
       "      <th>households</th>\n",
       "      <th>income_cat</th>\n",
       "      <th>longitude</th>\n",
       "      <th>latitude</th>\n",
       "    </tr>\n",
       "  </thead>\n",
       "  <tbody>\n",
       "    <tr>\n",
       "      <th>13096</th>\n",
       "      <td>52.0</td>\n",
       "      <td>3321.0</td>\n",
       "      <td>1115.0</td>\n",
       "      <td>1576.0</td>\n",
       "      <td>1034.0</td>\n",
       "      <td>2</td>\n",
       "      <td>-122.42</td>\n",
       "      <td>37.80</td>\n",
       "    </tr>\n",
       "    <tr>\n",
       "      <th>14973</th>\n",
       "      <td>40.0</td>\n",
       "      <td>1965.0</td>\n",
       "      <td>354.0</td>\n",
       "      <td>666.0</td>\n",
       "      <td>357.0</td>\n",
       "      <td>5</td>\n",
       "      <td>-118.38</td>\n",
       "      <td>34.14</td>\n",
       "    </tr>\n",
       "    <tr>\n",
       "      <th>3785</th>\n",
       "      <td>33.0</td>\n",
       "      <td>1083.0</td>\n",
       "      <td>217.0</td>\n",
       "      <td>562.0</td>\n",
       "      <td>203.0</td>\n",
       "      <td>2</td>\n",
       "      <td>-121.98</td>\n",
       "      <td>38.36</td>\n",
       "    </tr>\n",
       "    <tr>\n",
       "      <th>14689</th>\n",
       "      <td>17.0</td>\n",
       "      <td>4174.0</td>\n",
       "      <td>851.0</td>\n",
       "      <td>1845.0</td>\n",
       "      <td>780.0</td>\n",
       "      <td>2</td>\n",
       "      <td>-117.11</td>\n",
       "      <td>33.75</td>\n",
       "    </tr>\n",
       "    <tr>\n",
       "      <th>20507</th>\n",
       "      <td>36.0</td>\n",
       "      <td>4366.0</td>\n",
       "      <td>1211.0</td>\n",
       "      <td>1912.0</td>\n",
       "      <td>1172.0</td>\n",
       "      <td>3</td>\n",
       "      <td>-118.15</td>\n",
       "      <td>33.77</td>\n",
       "    </tr>\n",
       "    <tr>\n",
       "      <th>1286</th>\n",
       "      <td>52.0</td>\n",
       "      <td>1829.0</td>\n",
       "      <td>301.0</td>\n",
       "      <td>694.0</td>\n",
       "      <td>319.0</td>\n",
       "      <td>3</td>\n",
       "      <td>-121.31</td>\n",
       "      <td>37.96</td>\n",
       "    </tr>\n",
       "    <tr>\n",
       "      <th>18078</th>\n",
       "      <td>34.0</td>\n",
       "      <td>1086.0</td>\n",
       "      <td>197.0</td>\n",
       "      <td>509.0</td>\n",
       "      <td>158.0</td>\n",
       "      <td>5</td>\n",
       "      <td>-118.36</td>\n",
       "      <td>33.85</td>\n",
       "    </tr>\n",
       "    <tr>\n",
       "      <th>4396</th>\n",
       "      <td>36.0</td>\n",
       "      <td>4787.0</td>\n",
       "      <td>900.0</td>\n",
       "      <td>2039.0</td>\n",
       "      <td>890.0</td>\n",
       "      <td>4</td>\n",
       "      <td>-122.13</td>\n",
       "      <td>37.41</td>\n",
       "    </tr>\n",
       "  </tbody>\n",
       "</table>\n",
       "</div>"
      ],
      "text/plain": [
       "       housing_median_age  total_rooms  total_bedrooms  population  \\\n",
       "13096                52.0       3321.0          1115.0      1576.0   \n",
       "14973                40.0       1965.0           354.0       666.0   \n",
       "3785                 33.0       1083.0           217.0       562.0   \n",
       "14689                17.0       4174.0           851.0      1845.0   \n",
       "20507                36.0       4366.0          1211.0      1912.0   \n",
       "1286                 52.0       1829.0           301.0       694.0   \n",
       "18078                34.0       1086.0           197.0       509.0   \n",
       "4396                 36.0       4787.0           900.0      2039.0   \n",
       "\n",
       "       households  income_cat  longitude  latitude  \n",
       "13096      1034.0           2    -122.42     37.80  \n",
       "14973       357.0           5    -118.38     34.14  \n",
       "3785        203.0           2    -121.98     38.36  \n",
       "14689       780.0           2    -117.11     33.75  \n",
       "20507      1172.0           3    -118.15     33.77  \n",
       "1286        319.0           3    -121.31     37.96  \n",
       "18078       158.0           5    -118.36     33.85  \n",
       "4396        890.0           4    -122.13     37.41  "
      ]
     },
     "execution_count": 243,
     "metadata": {},
     "output_type": "execute_result"
    }
   ],
   "source": [
    "housing_num.head(8)"
   ]
  },
  {
   "cell_type": "code",
   "execution_count": 245,
   "metadata": {},
   "outputs": [
    {
     "data": {
      "text/html": [
       "<div>\n",
       "<style scoped>\n",
       "    .dataframe tbody tr th:only-of-type {\n",
       "        vertical-align: middle;\n",
       "    }\n",
       "\n",
       "    .dataframe tbody tr th {\n",
       "        vertical-align: top;\n",
       "    }\n",
       "\n",
       "    .dataframe thead th {\n",
       "        text-align: right;\n",
       "    }\n",
       "</style>\n",
       "<table border=\"1\" class=\"dataframe\">\n",
       "  <thead>\n",
       "    <tr style=\"text-align: right;\">\n",
       "      <th></th>\n",
       "      <th>housing_median_age</th>\n",
       "      <th>total_rooms</th>\n",
       "      <th>total_bedrooms</th>\n",
       "      <th>population</th>\n",
       "      <th>households</th>\n",
       "      <th>income_cat</th>\n",
       "      <th>longitude</th>\n",
       "      <th>latitude</th>\n",
       "    </tr>\n",
       "  </thead>\n",
       "  <tbody>\n",
       "    <tr>\n",
       "      <th>0</th>\n",
       "      <td>1.861119</td>\n",
       "      <td>0.311912</td>\n",
       "      <td>1.359094</td>\n",
       "      <td>0.137460</td>\n",
       "      <td>1.394812</td>\n",
       "      <td>-0.954687</td>\n",
       "      <td>-1.423037</td>\n",
       "      <td>1.013606</td>\n",
       "    </tr>\n",
       "    <tr>\n",
       "      <th>1</th>\n",
       "      <td>0.907630</td>\n",
       "      <td>-0.308620</td>\n",
       "      <td>-0.436356</td>\n",
       "      <td>-0.693771</td>\n",
       "      <td>-0.373485</td>\n",
       "      <td>1.890078</td>\n",
       "      <td>0.596394</td>\n",
       "      <td>-0.702103</td>\n",
       "    </tr>\n",
       "    <tr>\n",
       "      <th>2</th>\n",
       "      <td>0.351428</td>\n",
       "      <td>-0.712240</td>\n",
       "      <td>-0.759584</td>\n",
       "      <td>-0.788768</td>\n",
       "      <td>-0.775727</td>\n",
       "      <td>-0.954687</td>\n",
       "      <td>-1.203098</td>\n",
       "      <td>1.276119</td>\n",
       "    </tr>\n",
       "    <tr>\n",
       "      <th>3</th>\n",
       "      <td>-0.919891</td>\n",
       "      <td>0.702262</td>\n",
       "      <td>0.736231</td>\n",
       "      <td>0.383175</td>\n",
       "      <td>0.731375</td>\n",
       "      <td>-0.954687</td>\n",
       "      <td>1.231216</td>\n",
       "      <td>-0.884924</td>\n",
       "    </tr>\n",
       "    <tr>\n",
       "      <th>4</th>\n",
       "      <td>0.589800</td>\n",
       "      <td>0.790125</td>\n",
       "      <td>1.585590</td>\n",
       "      <td>0.444376</td>\n",
       "      <td>1.755263</td>\n",
       "      <td>-0.006432</td>\n",
       "      <td>0.711362</td>\n",
       "      <td>-0.875549</td>\n",
       "    </tr>\n",
       "    <tr>\n",
       "      <th>5</th>\n",
       "      <td>1.861119</td>\n",
       "      <td>-0.370856</td>\n",
       "      <td>-0.561400</td>\n",
       "      <td>-0.668194</td>\n",
       "      <td>-0.472739</td>\n",
       "      <td>-0.006432</td>\n",
       "      <td>-0.868193</td>\n",
       "      <td>1.088610</td>\n",
       "    </tr>\n",
       "    <tr>\n",
       "      <th>6</th>\n",
       "      <td>0.430885</td>\n",
       "      <td>-0.710868</td>\n",
       "      <td>-0.806771</td>\n",
       "      <td>-0.837181</td>\n",
       "      <td>-0.893265</td>\n",
       "      <td>1.890078</td>\n",
       "      <td>0.606392</td>\n",
       "      <td>-0.838047</td>\n",
       "    </tr>\n",
       "    <tr>\n",
       "      <th>7</th>\n",
       "      <td>0.589800</td>\n",
       "      <td>0.982782</td>\n",
       "      <td>0.851838</td>\n",
       "      <td>0.560383</td>\n",
       "      <td>1.018690</td>\n",
       "      <td>0.941823</td>\n",
       "      <td>-1.278077</td>\n",
       "      <td>0.830784</td>\n",
       "    </tr>\n",
       "  </tbody>\n",
       "</table>\n",
       "</div>"
      ],
      "text/plain": [
       "   housing_median_age  total_rooms  total_bedrooms  population  households  \\\n",
       "0            1.861119     0.311912        1.359094    0.137460    1.394812   \n",
       "1            0.907630    -0.308620       -0.436356   -0.693771   -0.373485   \n",
       "2            0.351428    -0.712240       -0.759584   -0.788768   -0.775727   \n",
       "3           -0.919891     0.702262        0.736231    0.383175    0.731375   \n",
       "4            0.589800     0.790125        1.585590    0.444376    1.755263   \n",
       "5            1.861119    -0.370856       -0.561400   -0.668194   -0.472739   \n",
       "6            0.430885    -0.710868       -0.806771   -0.837181   -0.893265   \n",
       "7            0.589800     0.982782        0.851838    0.560383    1.018690   \n",
       "\n",
       "   income_cat  longitude  latitude  \n",
       "0   -0.954687  -1.423037  1.013606  \n",
       "1    1.890078   0.596394 -0.702103  \n",
       "2   -0.954687  -1.203098  1.276119  \n",
       "3   -0.954687   1.231216 -0.884924  \n",
       "4   -0.006432   0.711362 -0.875549  \n",
       "5   -0.006432  -0.868193  1.088610  \n",
       "6    1.890078   0.606392 -0.838047  \n",
       "7    0.941823  -1.278077  0.830784  "
      ]
     },
     "execution_count": 245,
     "metadata": {},
     "output_type": "execute_result"
    }
   ],
   "source": [
    "pd.DataFrame(housing_num_std_scaled, columns = housing_num.columns).head(8)"
   ]
  },
  {
   "cell_type": "code",
   "execution_count": 247,
   "metadata": {},
   "outputs": [
    {
     "data": {
      "image/png": "[encoded data removed]",
      "text/plain": [
       "<Figure size 576x216 with 2 Axes>"
      ]
     },
     "metadata": {
      "needs_background": "light"
     },
     "output_type": "display_data"
    }
   ],
   "source": [
    "fig, axs = plt.subplots(1, 2, figsize=(8, 3), sharey=True)\n",
    "housing_train[\"population\"].hist(ax=axs[0], bins=50)\n",
    "housing_train[\"population\"].apply(np.log).hist(ax=axs[1], bins=50)\n",
    "axs[0].set_xlabel(\"Population\")\n",
    "axs[1].set_xlabel(\"Log of population\")\n",
    "axs[0].set_ylabel(\"Number of districts\")\n",
    "#save_fig(\"long_tail_plot\")\n",
    "plt.show()"
   ]
  },
  {
   "cell_type": "code",
   "execution_count": 248,
   "metadata": {},
   "outputs": [
    {
     "data": {
      "image/png": "[encoded data removed]",
      "text/plain": [
       "<Figure size 576x216 with 2 Axes>"
      ]
     },
     "metadata": {
      "needs_background": "light"
     },
     "output_type": "display_data"
    }
   ],
   "source": [
    "fig, axs = plt.subplots(1, 2, figsize=(8, 3), sharey=True)\n",
    "housing_train[\"total_rooms\"].hist(ax=axs[0], bins=50)\n",
    "housing_train[\"total_rooms\"].apply(np.log).hist(ax=axs[1], bins=50)\n",
    "axs[0].set_xlabel(\"total_rooms\")\n",
    "axs[1].set_xlabel(\"Log of total_rooms\")\n",
    "axs[0].set_ylabel(\"Number of districts\")\n",
    "#save_fig(\"long_tail_plot\")\n",
    "plt.show()"
   ]
  },
  {
   "cell_type": "markdown",
   "metadata": {},
   "source": [
    "## Ahora que ya sabemos lo que queremos... no estamos locos, y podemos hacer nuestra lista de preprocesados..."
   ]
  },
  {
   "cell_type": "markdown",
   "metadata": {},
   "source": [
    "1. Imputer\n",
    "2. OneHotEncoding\n",
    "3. Añadido Características (los ratios)\n",
    "4. Escalado\n",
    "5. Transformado distribuciones\n"
   ]
  },
  {
   "cell_type": "markdown",
   "metadata": {},
   "source": [
    "### Creando transformers sencillos"
   ]
  },
  {
   "cell_type": "code",
   "execution_count": 566,
   "metadata": {},
   "outputs": [],
   "source": [
    "from sklearn.preprocessing import FunctionTransformer\n",
    "\n",
    "log_transformer = FunctionTransformer(np.log, inverse_func=np.exp)\n",
    "log_pop = log_transformer.transform(housing_train[[\"population\"]])"
   ]
  },
  {
   "cell_type": "code",
   "execution_count": 567,
   "metadata": {},
   "outputs": [
    {
     "data": {
      "text/plain": [
       "array([[0.5 ],\n",
       "       [0.75]])"
      ]
     },
     "execution_count": 567,
     "metadata": {},
     "output_type": "execute_result"
    }
   ],
   "source": [
    "ratio_transformer = FunctionTransformer(lambda X: X[:, [0]] / X[:, [1]])\n",
    "ratio_transformer.transform(np.array([[1., 2.], [3., 4.]]))"
   ]
  },
  {
   "cell_type": "markdown",
   "metadata": {},
   "source": [
    "### Creando nuestros pipelines"
   ]
  },
  {
   "cell_type": "code",
   "execution_count": 266,
   "metadata": {},
   "outputs": [],
   "source": [
    "from sklearn.pipeline import Pipeline\n",
    "\n",
    "num_pipeline = Pipeline([\n",
    "    (\"impute\", SimpleImputer(strategy=\"median\")),\n",
    "    (\"standardize\", StandardScaler()),\n",
    "])"
   ]
  },
  {
   "cell_type": "code",
   "execution_count": 267,
   "metadata": {
    "scrolled": true
   },
   "outputs": [
    {
     "data": {
      "text/plain": [
       "Pipeline(steps=[('impute', SimpleImputer(strategy='median')),\n",
       "                ('standardize', StandardScaler())])"
      ]
     },
     "execution_count": 267,
     "metadata": {},
     "output_type": "execute_result"
    }
   ],
   "source": [
    "num_pipeline"
   ]
  },
  {
   "cell_type": "code",
   "execution_count": 268,
   "metadata": {},
   "outputs": [],
   "source": [
    "from sklearn.pipeline import make_pipeline"
   ]
  },
  {
   "cell_type": "code",
   "execution_count": 315,
   "metadata": {},
   "outputs": [],
   "source": [
    "from sklearn.compose import ColumnTransformer\n",
    "\n",
    "num_attribs = [\"longitude\", \"latitude\", \"housing_median_age\", \"total_rooms\",\n",
    "               \"total_bedrooms\", \"population\", \"households\"]\n",
    "cat_attribs = [\"ocean_proximity\",\"income_cat\"]\n",
    "\n",
    "cat_pipeline = make_pipeline(\n",
    "    SimpleImputer(strategy=\"most_frequent\"),\n",
    "    OneHotEncoder(handle_unknown=\"ignore\", sparse = False))\n",
    "\n",
    "preprocessing = ColumnTransformer([\n",
    "    (\"num\", num_pipeline, num_attribs),\n",
    "    (\"cat\", cat_pipeline, cat_attribs),\n",
    "])"
   ]
  },
  {
   "cell_type": "code",
   "execution_count": 317,
   "metadata": {},
   "outputs": [],
   "source": [
    "def monkey_patch_get_signature_names_out():\n",
    "    \"\"\"Monkey patch some classes which did not handle get_feature_names_out()\n",
    "       correctly in Scikit-Learn 1.0.*.\"\"\"\n",
    "    from inspect import Signature, signature, Parameter\n",
    "    import pandas as pd\n",
    "    from sklearn.impute import SimpleImputer\n",
    "    from sklearn.pipeline import make_pipeline, Pipeline\n",
    "    from sklearn.preprocessing import FunctionTransformer, StandardScaler\n",
    "\n",
    "    default_get_feature_names_out = StandardScaler.get_feature_names_out\n",
    "\n",
    "    if not hasattr(SimpleImputer, \"get_feature_names_out\"):\n",
    "      print(\"Monkey-patching SimpleImputer.get_feature_names_out()\")\n",
    "      SimpleImputer.get_feature_names_out = default_get_feature_names_out\n",
    "\n",
    "    if not hasattr(FunctionTransformer, \"get_feature_names_out\"):\n",
    "        print(\"Monkey-patching FunctionTransformer.get_feature_names_out()\")\n",
    "        orig_init = FunctionTransformer.__init__\n",
    "        orig_sig = signature(orig_init)\n",
    "\n",
    "        def __init__(*args, feature_names_out=None, **kwargs):\n",
    "            orig_sig.bind(*args, **kwargs)\n",
    "            orig_init(*args, **kwargs)\n",
    "            args[0].feature_names_out = feature_names_out\n",
    "\n",
    "        __init__.__signature__ = Signature(\n",
    "            list(signature(orig_init).parameters.values()) + [\n",
    "                Parameter(\"feature_names_out\", Parameter.KEYWORD_ONLY)])\n",
    "\n",
    "        def get_feature_names_out(self, names=None):\n",
    "            if callable(self.feature_names_out):\n",
    "                return self.feature_names_out(self, names)\n",
    "            assert self.feature_names_out == \"one-to-one\"\n",
    "            return default_get_feature_names_out(self, names)\n",
    "\n",
    "        FunctionTransformer.__init__ = __init__\n",
    "        FunctionTransformer.get_feature_names_out = get_feature_names_out\n",
    "\n",
    "monkey_patch_get_signature_names_out()"
   ]
  },
  {
   "cell_type": "code",
   "execution_count": 318,
   "metadata": {},
   "outputs": [],
   "source": [
    "housing_final_train = housing_train.drop([\"NBA\",\"new_district_id\"], axis = 1)"
   ]
  },
  {
   "cell_type": "code",
   "execution_count": 319,
   "metadata": {},
   "outputs": [],
   "source": [
    "test_housing_train = preprocessing.fit_transform(housing_final_train)"
   ]
  },
  {
   "cell_type": "code",
   "execution_count": 320,
   "metadata": {
    "scrolled": true
   },
   "outputs": [
    {
     "data": {
      "text/plain": [
       "array(['num__longitude', 'num__latitude', 'num__housing_median_age',\n",
       "       'num__total_rooms', 'num__total_bedrooms', 'num__population',\n",
       "       'num__households', 'cat__ocean_proximity_<1H OCEAN',\n",
       "       'cat__ocean_proximity_INLAND', 'cat__ocean_proximity_ISLAND',\n",
       "       'cat__ocean_proximity_NEAR BAY', 'cat__ocean_proximity_NEAR OCEAN',\n",
       "       'cat__income_cat_1', 'cat__income_cat_2', 'cat__income_cat_3',\n",
       "       'cat__income_cat_4', 'cat__income_cat_5'], dtype=object)"
      ]
     },
     "execution_count": 320,
     "metadata": {},
     "output_type": "execute_result"
    }
   ],
   "source": [
    "preprocessing.get_feature_names_out()"
   ]
  },
  {
   "cell_type": "code",
   "execution_count": 321,
   "metadata": {},
   "outputs": [
    {
     "data": {
      "text/plain": [
       "(16512, 17)"
      ]
     },
     "execution_count": 321,
     "metadata": {},
     "output_type": "execute_result"
    }
   ],
   "source": [
    "test_housing_train.shape"
   ]
  },
  {
   "cell_type": "code",
   "execution_count": 322,
   "metadata": {
    "scrolled": true
   },
   "outputs": [
    {
     "data": {
      "text/html": [
       "<div>\n",
       "<style scoped>\n",
       "    .dataframe tbody tr th:only-of-type {\n",
       "        vertical-align: middle;\n",
       "    }\n",
       "\n",
       "    .dataframe tbody tr th {\n",
       "        vertical-align: top;\n",
       "    }\n",
       "\n",
       "    .dataframe thead th {\n",
       "        text-align: right;\n",
       "    }\n",
       "</style>\n",
       "<table border=\"1\" class=\"dataframe\">\n",
       "  <thead>\n",
       "    <tr style=\"text-align: right;\">\n",
       "      <th></th>\n",
       "      <th>housing_median_age</th>\n",
       "      <th>total_rooms</th>\n",
       "      <th>total_bedrooms</th>\n",
       "      <th>population</th>\n",
       "      <th>households</th>\n",
       "      <th>ocean_proximity</th>\n",
       "      <th>income_cat</th>\n",
       "      <th>longitude</th>\n",
       "      <th>latitude</th>\n",
       "      <th>NBA</th>\n",
       "      <th>new_district_id</th>\n",
       "    </tr>\n",
       "  </thead>\n",
       "  <tbody>\n",
       "    <tr>\n",
       "      <th>13096</th>\n",
       "      <td>52.0</td>\n",
       "      <td>3321.0</td>\n",
       "      <td>1115.0</td>\n",
       "      <td>1576.0</td>\n",
       "      <td>1034.0</td>\n",
       "      <td>NEAR BAY</td>\n",
       "      <td>2</td>\n",
       "      <td>-122.42</td>\n",
       "      <td>37.80</td>\n",
       "      <td>False</td>\n",
       "      <td>0-b8dea43d-5d6f-4e49-b71d-e2f10e5a5109</td>\n",
       "    </tr>\n",
       "    <tr>\n",
       "      <th>14973</th>\n",
       "      <td>40.0</td>\n",
       "      <td>1965.0</td>\n",
       "      <td>354.0</td>\n",
       "      <td>666.0</td>\n",
       "      <td>357.0</td>\n",
       "      <td>&lt;1H OCEAN</td>\n",
       "      <td>5</td>\n",
       "      <td>-118.38</td>\n",
       "      <td>34.14</td>\n",
       "      <td>False</td>\n",
       "      <td>0-5091dafa-2699-4bec-acfc-2fc0f13a47e0</td>\n",
       "    </tr>\n",
       "    <tr>\n",
       "      <th>3785</th>\n",
       "      <td>33.0</td>\n",
       "      <td>1083.0</td>\n",
       "      <td>217.0</td>\n",
       "      <td>562.0</td>\n",
       "      <td>203.0</td>\n",
       "      <td>INLAND</td>\n",
       "      <td>2</td>\n",
       "      <td>-121.98</td>\n",
       "      <td>38.36</td>\n",
       "      <td>True</td>\n",
       "      <td>0-570ebd94-e8ee-4ceb-9663-cda7e0c1a599</td>\n",
       "    </tr>\n",
       "    <tr>\n",
       "      <th>14689</th>\n",
       "      <td>17.0</td>\n",
       "      <td>4174.0</td>\n",
       "      <td>851.0</td>\n",
       "      <td>1845.0</td>\n",
       "      <td>780.0</td>\n",
       "      <td>INLAND</td>\n",
       "      <td>2</td>\n",
       "      <td>-117.11</td>\n",
       "      <td>33.75</td>\n",
       "      <td>True</td>\n",
       "      <td>0-f21fbe68-4cbc-490e-a410-9933e1ef9832</td>\n",
       "    </tr>\n",
       "    <tr>\n",
       "      <th>20507</th>\n",
       "      <td>36.0</td>\n",
       "      <td>4366.0</td>\n",
       "      <td>1211.0</td>\n",
       "      <td>1912.0</td>\n",
       "      <td>1172.0</td>\n",
       "      <td>NEAR OCEAN</td>\n",
       "      <td>3</td>\n",
       "      <td>-118.15</td>\n",
       "      <td>33.77</td>\n",
       "      <td>True</td>\n",
       "      <td>0-c93a9901-ad61-4a67-8ce0-6617196e5061</td>\n",
       "    </tr>\n",
       "    <tr>\n",
       "      <th>1286</th>\n",
       "      <td>52.0</td>\n",
       "      <td>1829.0</td>\n",
       "      <td>301.0</td>\n",
       "      <td>694.0</td>\n",
       "      <td>319.0</td>\n",
       "      <td>INLAND</td>\n",
       "      <td>3</td>\n",
       "      <td>-121.31</td>\n",
       "      <td>37.96</td>\n",
       "      <td>True</td>\n",
       "      <td>0-d7f1a77a-9cae-44e4-924f-40946f184db8</td>\n",
       "    </tr>\n",
       "    <tr>\n",
       "      <th>18078</th>\n",
       "      <td>34.0</td>\n",
       "      <td>1086.0</td>\n",
       "      <td>197.0</td>\n",
       "      <td>509.0</td>\n",
       "      <td>158.0</td>\n",
       "      <td>&lt;1H OCEAN</td>\n",
       "      <td>5</td>\n",
       "      <td>-118.36</td>\n",
       "      <td>33.85</td>\n",
       "      <td>True</td>\n",
       "      <td>0-0e885660-b409-402a-99f4-1de6b41d94ea</td>\n",
       "    </tr>\n",
       "    <tr>\n",
       "      <th>4396</th>\n",
       "      <td>36.0</td>\n",
       "      <td>4787.0</td>\n",
       "      <td>900.0</td>\n",
       "      <td>2039.0</td>\n",
       "      <td>890.0</td>\n",
       "      <td>NEAR BAY</td>\n",
       "      <td>4</td>\n",
       "      <td>-122.13</td>\n",
       "      <td>37.41</td>\n",
       "      <td>False</td>\n",
       "      <td>0-96ad9198-9d95-41f3-8b1a-a67e15b6f0d0</td>\n",
       "    </tr>\n",
       "  </tbody>\n",
       "</table>\n",
       "</div>"
      ],
      "text/plain": [
       "       housing_median_age  total_rooms  total_bedrooms  population  \\\n",
       "13096                52.0       3321.0          1115.0      1576.0   \n",
       "14973                40.0       1965.0           354.0       666.0   \n",
       "3785                 33.0       1083.0           217.0       562.0   \n",
       "14689                17.0       4174.0           851.0      1845.0   \n",
       "20507                36.0       4366.0          1211.0      1912.0   \n",
       "1286                 52.0       1829.0           301.0       694.0   \n",
       "18078                34.0       1086.0           197.0       509.0   \n",
       "4396                 36.0       4787.0           900.0      2039.0   \n",
       "\n",
       "       households ocean_proximity  income_cat  longitude  latitude    NBA  \\\n",
       "13096      1034.0        NEAR BAY           2    -122.42     37.80  False   \n",
       "14973       357.0       <1H OCEAN           5    -118.38     34.14  False   \n",
       "3785        203.0          INLAND           2    -121.98     38.36   True   \n",
       "14689       780.0          INLAND           2    -117.11     33.75   True   \n",
       "20507      1172.0      NEAR OCEAN           3    -118.15     33.77   True   \n",
       "1286        319.0          INLAND           3    -121.31     37.96   True   \n",
       "18078       158.0       <1H OCEAN           5    -118.36     33.85   True   \n",
       "4396        890.0        NEAR BAY           4    -122.13     37.41  False   \n",
       "\n",
       "                              new_district_id  \n",
       "13096  0-b8dea43d-5d6f-4e49-b71d-e2f10e5a5109  \n",
       "14973  0-5091dafa-2699-4bec-acfc-2fc0f13a47e0  \n",
       "3785   0-570ebd94-e8ee-4ceb-9663-cda7e0c1a599  \n",
       "14689  0-f21fbe68-4cbc-490e-a410-9933e1ef9832  \n",
       "20507  0-c93a9901-ad61-4a67-8ce0-6617196e5061  \n",
       "1286   0-d7f1a77a-9cae-44e4-924f-40946f184db8  \n",
       "18078  0-0e885660-b409-402a-99f4-1de6b41d94ea  \n",
       "4396   0-96ad9198-9d95-41f3-8b1a-a67e15b6f0d0  "
      ]
     },
     "execution_count": 322,
     "metadata": {},
     "output_type": "execute_result"
    }
   ],
   "source": [
    "housing_train.head(8)"
   ]
  },
  {
   "cell_type": "code",
   "execution_count": 324,
   "metadata": {},
   "outputs": [
    {
     "data": {
      "text/plain": [
       "numpy.ndarray"
      ]
     },
     "execution_count": 324,
     "metadata": {},
     "output_type": "execute_result"
    }
   ],
   "source": [
    "type(test_housing_train)"
   ]
  },
  {
   "cell_type": "code",
   "execution_count": 325,
   "metadata": {},
   "outputs": [],
   "source": [
    "housing_prepared_fr = pd.DataFrame(\n",
    "    test_housing_train,\n",
    "    columns=preprocessing.get_feature_names_out())"
   ]
  },
  {
   "cell_type": "code",
   "execution_count": 327,
   "metadata": {},
   "outputs": [
    {
     "data": {
      "text/html": [
       "<div>\n",
       "<style scoped>\n",
       "    .dataframe tbody tr th:only-of-type {\n",
       "        vertical-align: middle;\n",
       "    }\n",
       "\n",
       "    .dataframe tbody tr th {\n",
       "        vertical-align: top;\n",
       "    }\n",
       "\n",
       "    .dataframe thead th {\n",
       "        text-align: right;\n",
       "    }\n",
       "</style>\n",
       "<table border=\"1\" class=\"dataframe\">\n",
       "  <thead>\n",
       "    <tr style=\"text-align: right;\">\n",
       "      <th></th>\n",
       "      <th>num__longitude</th>\n",
       "      <th>num__latitude</th>\n",
       "      <th>num__housing_median_age</th>\n",
       "      <th>num__total_rooms</th>\n",
       "      <th>num__total_bedrooms</th>\n",
       "      <th>num__population</th>\n",
       "      <th>num__households</th>\n",
       "      <th>cat__ocean_proximity_&lt;1H OCEAN</th>\n",
       "      <th>cat__ocean_proximity_INLAND</th>\n",
       "      <th>cat__ocean_proximity_ISLAND</th>\n",
       "      <th>cat__ocean_proximity_NEAR BAY</th>\n",
       "      <th>cat__ocean_proximity_NEAR OCEAN</th>\n",
       "      <th>cat__income_cat_1</th>\n",
       "      <th>cat__income_cat_2</th>\n",
       "      <th>cat__income_cat_3</th>\n",
       "      <th>cat__income_cat_4</th>\n",
       "      <th>cat__income_cat_5</th>\n",
       "    </tr>\n",
       "  </thead>\n",
       "  <tbody>\n",
       "    <tr>\n",
       "      <th>0</th>\n",
       "      <td>-1.423037</td>\n",
       "      <td>1.013606</td>\n",
       "      <td>1.861119</td>\n",
       "      <td>0.311912</td>\n",
       "      <td>1.368167</td>\n",
       "      <td>0.137460</td>\n",
       "      <td>1.394812</td>\n",
       "      <td>0.0</td>\n",
       "      <td>0.0</td>\n",
       "      <td>0.0</td>\n",
       "      <td>1.0</td>\n",
       "      <td>0.0</td>\n",
       "      <td>0.0</td>\n",
       "      <td>1.0</td>\n",
       "      <td>0.0</td>\n",
       "      <td>0.0</td>\n",
       "      <td>0.0</td>\n",
       "    </tr>\n",
       "    <tr>\n",
       "      <th>1</th>\n",
       "      <td>0.596394</td>\n",
       "      <td>-0.702103</td>\n",
       "      <td>0.907630</td>\n",
       "      <td>-0.308620</td>\n",
       "      <td>-0.435925</td>\n",
       "      <td>-0.693771</td>\n",
       "      <td>-0.373485</td>\n",
       "      <td>1.0</td>\n",
       "      <td>0.0</td>\n",
       "      <td>0.0</td>\n",
       "      <td>0.0</td>\n",
       "      <td>0.0</td>\n",
       "      <td>0.0</td>\n",
       "      <td>0.0</td>\n",
       "      <td>0.0</td>\n",
       "      <td>0.0</td>\n",
       "      <td>1.0</td>\n",
       "    </tr>\n",
       "    <tr>\n",
       "      <th>2</th>\n",
       "      <td>-1.203098</td>\n",
       "      <td>1.276119</td>\n",
       "      <td>0.351428</td>\n",
       "      <td>-0.712240</td>\n",
       "      <td>-0.760709</td>\n",
       "      <td>-0.788768</td>\n",
       "      <td>-0.775727</td>\n",
       "      <td>0.0</td>\n",
       "      <td>1.0</td>\n",
       "      <td>0.0</td>\n",
       "      <td>0.0</td>\n",
       "      <td>0.0</td>\n",
       "      <td>0.0</td>\n",
       "      <td>1.0</td>\n",
       "      <td>0.0</td>\n",
       "      <td>0.0</td>\n",
       "      <td>0.0</td>\n",
       "    </tr>\n",
       "    <tr>\n",
       "      <th>3</th>\n",
       "      <td>1.231216</td>\n",
       "      <td>-0.884924</td>\n",
       "      <td>-0.919891</td>\n",
       "      <td>0.702262</td>\n",
       "      <td>0.742306</td>\n",
       "      <td>0.383175</td>\n",
       "      <td>0.731375</td>\n",
       "      <td>0.0</td>\n",
       "      <td>1.0</td>\n",
       "      <td>0.0</td>\n",
       "      <td>0.0</td>\n",
       "      <td>0.0</td>\n",
       "      <td>0.0</td>\n",
       "      <td>1.0</td>\n",
       "      <td>0.0</td>\n",
       "      <td>0.0</td>\n",
       "      <td>0.0</td>\n",
       "    </tr>\n",
       "    <tr>\n",
       "      <th>4</th>\n",
       "      <td>0.711362</td>\n",
       "      <td>-0.875549</td>\n",
       "      <td>0.589800</td>\n",
       "      <td>0.790125</td>\n",
       "      <td>1.595753</td>\n",
       "      <td>0.444376</td>\n",
       "      <td>1.755263</td>\n",
       "      <td>0.0</td>\n",
       "      <td>0.0</td>\n",
       "      <td>0.0</td>\n",
       "      <td>0.0</td>\n",
       "      <td>1.0</td>\n",
       "      <td>0.0</td>\n",
       "      <td>0.0</td>\n",
       "      <td>1.0</td>\n",
       "      <td>0.0</td>\n",
       "      <td>0.0</td>\n",
       "    </tr>\n",
       "    <tr>\n",
       "      <th>5</th>\n",
       "      <td>-0.868193</td>\n",
       "      <td>1.088610</td>\n",
       "      <td>1.861119</td>\n",
       "      <td>-0.370856</td>\n",
       "      <td>-0.561571</td>\n",
       "      <td>-0.668194</td>\n",
       "      <td>-0.472739</td>\n",
       "      <td>0.0</td>\n",
       "      <td>1.0</td>\n",
       "      <td>0.0</td>\n",
       "      <td>0.0</td>\n",
       "      <td>0.0</td>\n",
       "      <td>0.0</td>\n",
       "      <td>0.0</td>\n",
       "      <td>1.0</td>\n",
       "      <td>0.0</td>\n",
       "      <td>0.0</td>\n",
       "    </tr>\n",
       "    <tr>\n",
       "      <th>6</th>\n",
       "      <td>0.606392</td>\n",
       "      <td>-0.838047</td>\n",
       "      <td>0.430885</td>\n",
       "      <td>-0.710868</td>\n",
       "      <td>-0.808122</td>\n",
       "      <td>-0.837181</td>\n",
       "      <td>-0.893265</td>\n",
       "      <td>1.0</td>\n",
       "      <td>0.0</td>\n",
       "      <td>0.0</td>\n",
       "      <td>0.0</td>\n",
       "      <td>0.0</td>\n",
       "      <td>0.0</td>\n",
       "      <td>0.0</td>\n",
       "      <td>0.0</td>\n",
       "      <td>0.0</td>\n",
       "      <td>1.0</td>\n",
       "    </tr>\n",
       "    <tr>\n",
       "      <th>7</th>\n",
       "      <td>-1.278077</td>\n",
       "      <td>0.830784</td>\n",
       "      <td>0.589800</td>\n",
       "      <td>0.982782</td>\n",
       "      <td>0.858470</td>\n",
       "      <td>0.560383</td>\n",
       "      <td>1.018690</td>\n",
       "      <td>0.0</td>\n",
       "      <td>0.0</td>\n",
       "      <td>0.0</td>\n",
       "      <td>1.0</td>\n",
       "      <td>0.0</td>\n",
       "      <td>0.0</td>\n",
       "      <td>0.0</td>\n",
       "      <td>0.0</td>\n",
       "      <td>1.0</td>\n",
       "      <td>0.0</td>\n",
       "    </tr>\n",
       "  </tbody>\n",
       "</table>\n",
       "</div>"
      ],
      "text/plain": [
       "   num__longitude  num__latitude  num__housing_median_age  num__total_rooms  \\\n",
       "0       -1.423037       1.013606                 1.861119          0.311912   \n",
       "1        0.596394      -0.702103                 0.907630         -0.308620   \n",
       "2       -1.203098       1.276119                 0.351428         -0.712240   \n",
       "3        1.231216      -0.884924                -0.919891          0.702262   \n",
       "4        0.711362      -0.875549                 0.589800          0.790125   \n",
       "5       -0.868193       1.088610                 1.861119         -0.370856   \n",
       "6        0.606392      -0.838047                 0.430885         -0.710868   \n",
       "7       -1.278077       0.830784                 0.589800          0.982782   \n",
       "\n",
       "   num__total_bedrooms  num__population  num__households  \\\n",
       "0             1.368167         0.137460         1.394812   \n",
       "1            -0.435925        -0.693771        -0.373485   \n",
       "2            -0.760709        -0.788768        -0.775727   \n",
       "3             0.742306         0.383175         0.731375   \n",
       "4             1.595753         0.444376         1.755263   \n",
       "5            -0.561571        -0.668194        -0.472739   \n",
       "6            -0.808122        -0.837181        -0.893265   \n",
       "7             0.858470         0.560383         1.018690   \n",
       "\n",
       "   cat__ocean_proximity_<1H OCEAN  cat__ocean_proximity_INLAND  \\\n",
       "0                             0.0                          0.0   \n",
       "1                             1.0                          0.0   \n",
       "2                             0.0                          1.0   \n",
       "3                             0.0                          1.0   \n",
       "4                             0.0                          0.0   \n",
       "5                             0.0                          1.0   \n",
       "6                             1.0                          0.0   \n",
       "7                             0.0                          0.0   \n",
       "\n",
       "   cat__ocean_proximity_ISLAND  cat__ocean_proximity_NEAR BAY  \\\n",
       "0                          0.0                            1.0   \n",
       "1                          0.0                            0.0   \n",
       "2                          0.0                            0.0   \n",
       "3                          0.0                            0.0   \n",
       "4                          0.0                            0.0   \n",
       "5                          0.0                            0.0   \n",
       "6                          0.0                            0.0   \n",
       "7                          0.0                            1.0   \n",
       "\n",
       "   cat__ocean_proximity_NEAR OCEAN  cat__income_cat_1  cat__income_cat_2  \\\n",
       "0                              0.0                0.0                1.0   \n",
       "1                              0.0                0.0                0.0   \n",
       "2                              0.0                0.0                1.0   \n",
       "3                              0.0                0.0                1.0   \n",
       "4                              1.0                0.0                0.0   \n",
       "5                              0.0                0.0                0.0   \n",
       "6                              0.0                0.0                0.0   \n",
       "7                              0.0                0.0                0.0   \n",
       "\n",
       "   cat__income_cat_3  cat__income_cat_4  cat__income_cat_5  \n",
       "0                0.0                0.0                0.0  \n",
       "1                0.0                0.0                1.0  \n",
       "2                0.0                0.0                0.0  \n",
       "3                0.0                0.0                0.0  \n",
       "4                1.0                0.0                0.0  \n",
       "5                1.0                0.0                0.0  \n",
       "6                0.0                0.0                1.0  \n",
       "7                0.0                1.0                0.0  "
      ]
     },
     "execution_count": 327,
     "metadata": {},
     "output_type": "execute_result"
    }
   ],
   "source": [
    "housing_prepared_fr.head(8)"
   ]
  },
  {
   "cell_type": "code",
   "execution_count": 334,
   "metadata": {},
   "outputs": [],
   "source": [
    "def column_ratio(X):\n",
    "    return X[:, [0]] / X[:, [1]]\n",
    "\n",
    "def ratio_name(function_transformer, feature_names_in):\n",
    "    return [\"ratio\"]  # feature names out\n",
    "\n",
    "def ratio_pipeline():\n",
    "    return make_pipeline(\n",
    "        SimpleImputer(strategy=\"median\"),\n",
    "        FunctionTransformer(column_ratio, feature_names_out=ratio_name),\n",
    "        StandardScaler())\n",
    "\n",
    "log_pipeline = make_pipeline(\n",
    "    SimpleImputer(strategy=\"median\"),\n",
    "    FunctionTransformer(np.log, feature_names_out=\"one-to-one\"),\n",
    "    StandardScaler())\n",
    "default_num_pipeline = make_pipeline(SimpleImputer(strategy=\"median\"),\n",
    "                                     StandardScaler())\n",
    "preprocessing = ColumnTransformer([\n",
    "        (\"bedrooms\", ratio_pipeline(), [\"total_bedrooms\", \"total_rooms\"]),\n",
    "        (\"rooms_per_house\", ratio_pipeline(), [\"total_rooms\", \"households\"]),\n",
    "        (\"people_per_house\", ratio_pipeline(), [\"population\", \"households\"]),\n",
    "        (\"log\", log_pipeline, [\"total_bedrooms\", \"total_rooms\", \"population\",\n",
    "                               \"households\"]),\n",
    "        (\"cat\", cat_pipeline, cat_attribs),\n",
    "    ],\n",
    "    remainder=default_num_pipeline)  "
   ]
  },
  {
   "cell_type": "code",
   "execution_count": 335,
   "metadata": {},
   "outputs": [],
   "source": [
    "prepared_housing_train = preprocessing.fit_transform(housing_final_train)"
   ]
  },
  {
   "cell_type": "code",
   "execution_count": 336,
   "metadata": {},
   "outputs": [
    {
     "data": {
      "text/plain": [
       "(16512, 20)"
      ]
     },
     "execution_count": 336,
     "metadata": {},
     "output_type": "execute_result"
    }
   ],
   "source": [
    "prepared_housing_train.shape"
   ]
  },
  {
   "cell_type": "code",
   "execution_count": 340,
   "metadata": {},
   "outputs": [
    {
     "name": "stdout",
     "output_type": "stream",
     "text": [
      "bedrooms__ratio\n",
      "rooms_per_house__ratio\n",
      "people_per_house__ratio\n",
      "log__total_bedrooms\n",
      "log__total_rooms\n",
      "log__population\n",
      "log__households\n",
      "cat__ocean_proximity_<1H OCEAN\n",
      "cat__ocean_proximity_INLAND\n",
      "cat__ocean_proximity_ISLAND\n",
      "cat__ocean_proximity_NEAR BAY\n",
      "cat__ocean_proximity_NEAR OCEAN\n",
      "cat__income_cat_1\n",
      "cat__income_cat_2\n",
      "cat__income_cat_3\n",
      "cat__income_cat_4\n",
      "cat__income_cat_5\n",
      "remainder__housing_median_age\n",
      "remainder__longitude\n",
      "remainder__latitude\n"
     ]
    }
   ],
   "source": [
    "print(\"\\n\".join(list(preprocessing.get_feature_names_out())))"
   ]
  },
  {
   "cell_type": "markdown",
   "metadata": {},
   "source": [
    "# Y ahora sí, a cocinar modelos: Selección y entrenamiento"
   ]
  },
  {
   "cell_type": "markdown",
   "metadata": {},
   "source": [
    "<img src=\"./img/ml_pipeline_6.png\" alt=\"drawing\" width=\"700\"/>"
   ]
  },
  {
   "cell_type": "markdown",
   "metadata": {},
   "source": [
    "<img src=\"./img/model_review.png\" alt=\"drawing\" width=\"700\"/>"
   ]
  },
  {
   "cell_type": "markdown",
   "metadata": {},
   "source": [
    "\n",
    "## Decidir qué modelos\n",
    "Existen una gran cantidad de modelos que nos solventarán problemas de todo tipo. Ahora bien, ¿qué modelo se adapta mejor a los datos? Va a depender de los siguientes factores:\n",
    "\n",
    "#### Volumen de datos\n",
    "Lo ideal es cuantos más datos mejor, pero si tenemos:\n",
    "1. **Pocos datos y muchas features**: elige algoritmos con alto bias y low variance. Algoritmos que tienen algo más de error, pero generalizan mejor. Lienar regression, naive bayes, Linear SVM\n",
    "2. **Muchos datos y pocas features**: elige algoritmos con low bias y high variance: KNN, Decission trees, resto de kernels de SVM\n",
    "\n",
    "#### Accuracy vs interpretability\n",
    "Lo más importante a la hora de elegir modelo. ¿Cuánto de explicable tiene que ser mi modelo? Si tenemos que dar una justificación detallada de las decisiones que toma mi modelo, necesitaré un algoritmo de caja blanca, de lo contrario, será un caja negra. Normalmente los algoritmos caja negra tienen una mejor precisión. El problema que presentan es que resulta muy difícil seguir la traza de los outputs del modelo y no sabemos muy bien qué está haciendo.\n",
    "\n",
    "<img src=\"./img/choose_algorithm.png\" alt=\"drawing\" width=\"450\"/>\n",
    "\n",
    "\n",
    "#### Velocidad de entrenamiento\n",
    "Normalmente los algoritmos más precisos suelen tener un tiempo de entrenamiento alto.\n",
    "1. Rápidos: Logistic regression, linear models, naive bayes.\n",
    "2. Lentos: SVM (por el tunning de hiperparámetros), RRNN, ensembles.\n",
    "\n",
    "#### Relaciones lineales entre los datos\n",
    "La importancia del análisis exploratorio. Si la relacion con el target es lineal, va a predecir bien un modelo lineal como logistic regression o SVM lineal. Si no tendremos que acudir a otros modelos que permitan modelar relaciones no lineales, como por ejemplo random forest, KNN, kernel SVM o redes neuronales.\n",
    "\n",
    "¿Cómo comprobamos esto? Mediante el análisis exploratorio. Aunque otra opción sería entrenar una regresión lineal y analizar la aleatoriedad de los residuos. Deberían caer en una nube alrededor del 0, sin patrones tipo una parábola.\n",
    "\n",
    "<img src=\"./img/choose_algorithm2.png\" alt=\"drawing\" width=\"650\"/>"
   ]
  },
  {
   "cell_type": "markdown",
   "metadata": {},
   "source": [
    "# Para nuestro ejemplo\n",
    "  ### _1. Estimar el valor/precio de las casas en un distrito -> Regresion, 16000 muestras -> LinearRegression, Decission Tree, RandomForest, GBT?_\n",
    "  ### _2. Estimar el deporte favorito por distrito -> Clasificación 16000 muestras -> GBT, DecissionTree, Logistic Regression_\n",
    "\n"
   ]
  },
  {
   "cell_type": "markdown",
   "metadata": {},
   "source": [
    "Nota: ¿Pensáis que falta algo? Lo veremos al final del todo"
   ]
  },
  {
   "cell_type": "code",
   "execution_count": 396,
   "metadata": {},
   "outputs": [],
   "source": [
    "from sklearn.linear_model import LinearRegression, LogisticRegression\n",
    "from sklearn.tree import DecisionTreeRegressor, DecisionTreeClassifier\n",
    "from sklearn.ensemble import RandomForestRegressor, RandomForestClassifier, GradientBoostingClassifier\n"
   ]
  },
  {
   "cell_type": "markdown",
   "metadata": {},
   "source": [
    "Seleccionamos el modelo mejor para cada problema, ¿pero qué metricas?"
   ]
  },
  {
   "cell_type": "markdown",
   "metadata": {},
   "source": [
    "¿Cómo compararemos? ¿Entrenamos con todos los datos y comparamos la predicción con el test dataset? ¿Por qué no? ¿Hacemos lo mismo pero con el dataset de Train? ¿Por qué no o por qué sí?"
   ]
  },
  {
   "cell_type": "code",
   "execution_count": 430,
   "metadata": {},
   "outputs": [],
   "source": [
    "from sklearn.metrics import mean_squared_error\n",
    "from sklearn.metrics import confusion_matrix, precision_recall_curve, precision_score, recall_score, roc_auc_score\n",
    "from sklearn.metrics import f1_score, accuracy_score"
   ]
  },
  {
   "cell_type": "markdown",
   "metadata": {},
   "source": [
    "## Predicción de precios"
   ]
  },
  {
   "cell_type": "markdown",
   "metadata": {},
   "source": [
    "Regresos Lineal (sin optimizar hiperparámetros)"
   ]
  },
  {
   "cell_type": "code",
   "execution_count": 367,
   "metadata": {},
   "outputs": [
    {
     "data": {
      "text/plain": [
       "68973.64382450891"
      ]
     },
     "execution_count": 367,
     "metadata": {},
     "output_type": "execute_result"
    }
   ],
   "source": [
    "lin_reg = make_pipeline(preprocessing, LinearRegression())\n",
    "lin_reg.fit(housing_final_train, y_train_value)\n",
    "housing_predictions = lin_reg.predict(housing_final_train)\n",
    "lin_rmse = mean_squared_error(y_train_value, housing_predictions,\n",
    "                              squared=False)\n",
    "lin_rmse"
   ]
  },
  {
   "cell_type": "code",
   "execution_count": 387,
   "metadata": {},
   "outputs": [],
   "source": [
    "list_models_names = [\"Regresor Lineal\",\"Arbol de Decision\",\"Random Forest\"]\n",
    "list_models = [LinearRegression, DecisionTreeRegressor, RandomForestRegressor]\n",
    "regression_models = { model_name:make_pipeline(preprocessing,model()) for model_name,model in \\\n",
    "                 zip(list_models_names, list_models)}"
   ]
  },
  {
   "cell_type": "code",
   "execution_count": 388,
   "metadata": {},
   "outputs": [
    {
     "name": "stdout",
     "output_type": "stream",
     "text": [
      "Modelo <Regresor Lineal> -> RSME: 68973.64382450891, training_time: 0.10614609718322754\n",
      "Modelo <Arbol de Decision> -> RSME: 0.0, training_time: 0.2880582809448242\n",
      "Modelo <Random Forest> -> RSME: 18804.246484295865, training_time: 12.074887037277222\n",
      "Best:  Arbol de Decision\n"
     ]
    }
   ],
   "source": [
    "results = {}\n",
    "best_name = \"None\"\n",
    "best = None\n",
    "for model_name,modelo in regression_models.items():\n",
    "    t_zero = tm.time()\n",
    "    modelo.fit(housing_final_train,y_train_value)\n",
    "    housing_predictions = modelo.predict(housing_final_train)\n",
    "    results[model_name] = mean_squared_error(y_train_value, housing_predictions,\n",
    "                              squared=False)\n",
    "    best = results[model_name] if best == None else best\n",
    "    best_name = model_name if results[model_name] < best else best_name\n",
    "    best = results[model_name] if results[model_name] < best else best\n",
    "    print(\"Modelo <{}> -> RSME: {}, training_time: {}\".format(model_name, results[model_name], tm.time() - t_zero))\n",
    "print(\"Best: \",best_name)\n"
   ]
  },
  {
   "cell_type": "markdown",
   "metadata": {},
   "source": [
    "El mejor es un Overfitter..."
   ]
  },
  {
   "cell_type": "markdown",
   "metadata": {},
   "source": [
    "Mejor si probamos con una validación cruzada"
   ]
  },
  {
   "cell_type": "code",
   "execution_count": 389,
   "metadata": {},
   "outputs": [],
   "source": [
    "from sklearn.model_selection import cross_val_predict, cross_val_score"
   ]
  },
  {
   "cell_type": "code",
   "execution_count": 392,
   "metadata": {},
   "outputs": [
    {
     "name": "stdout",
     "output_type": "stream",
     "text": [
      "Regresor Lineal\n",
      "count       10.000000\n",
      "mean     69753.461603\n",
      "std       2799.114260\n",
      "min      66936.166363\n",
      "25%      68464.624624\n",
      "50%      68785.422607\n",
      "75%      70197.828566\n",
      "max      76887.643835\n",
      "dtype: float64\n",
      "Validation time:  0.9228780269622803\n",
      "#######\n",
      "\n",
      "Arbol de Decision\n",
      "count       10.000000\n",
      "mean     70243.240670\n",
      "std       1639.664621\n",
      "min      67875.969820\n",
      "25%      69085.965739\n",
      "50%      69986.795303\n",
      "75%      70991.397760\n",
      "max      73415.689297\n",
      "dtype: float64\n",
      "Validation time:  2.442564010620117\n",
      "#######\n",
      "\n",
      "Random Forest\n",
      "count       10.000000\n",
      "mean     50586.973712\n",
      "std        768.815457\n",
      "min      49226.372084\n",
      "25%      50318.115737\n",
      "50%      50858.439528\n",
      "75%      51101.810263\n",
      "max      51494.118410\n",
      "dtype: float64\n",
      "Validation time:  103.30460786819458\n",
      "#######\n",
      "\n"
     ]
    }
   ],
   "source": [
    "resultados = {}\n",
    "for model_name, model in regression_models.items():\n",
    "    t_zero = tm.time()\n",
    "    model_rmses = -cross_val_score(model, housing_final_train, y_train_value,\n",
    "                              scoring=\"neg_root_mean_squared_error\", cv=10)\n",
    "    resultados[model_name] = pd.Series(model_rmses).mean()\n",
    "    print(model_name)\n",
    "    print(pd.Series(model_rmses).describe())\n",
    "    print(\"Validation time: \", tm.time() - t_zero)\n",
    "    print(\"#######\\n\")"
   ]
  },
  {
   "cell_type": "markdown",
   "metadata": {},
   "source": [
    "... and the \"oscar\" goes to ... "
   ]
  },
  {
   "cell_type": "markdown",
   "metadata": {},
   "source": [
    "### Antes de pasar a Clasificación, hay dos modelos que hacen overfitting, qué podemos hacer: Regularizar\n"
   ]
  },
  {
   "cell_type": "markdown",
   "metadata": {},
   "source": [
    "## Predicción de deporte favorito"
   ]
  },
  {
   "cell_type": "code",
   "execution_count": 405,
   "metadata": {},
   "outputs": [],
   "source": [
    "from sklearn.metrics import ConfusionMatrixDisplay"
   ]
  },
  {
   "cell_type": "code",
   "execution_count": 435,
   "metadata": {},
   "outputs": [],
   "source": [
    "list_models_names = [\"Regresion Logistica\",\"Arbol de Decision\",\"Random Forest\", \"GBT\"]\n",
    "list_models = [LogisticRegression, DecisionTreeClassifier, RandomForestClassifier, GradientBoostingClassifier]\n",
    "classification_models = { model_name:make_pipeline(preprocessing,model() if \"Regresion\" not in model_name else model(max_iter = 1000)) for model_name,model in \\\n",
    "                 zip(list_models_names, list_models)}"
   ]
  },
  {
   "cell_type": "code",
   "execution_count": 442,
   "metadata": {
    "scrolled": false
   },
   "outputs": [
    {
     "name": "stdout",
     "output_type": "stream",
     "text": [
      "Regresion Logistica\n",
      "Precision: 0.71\n",
      "Recall: 0.68\n",
      "Accuracy: 0.70\n",
      "f1_score: 0.69\n",
      "Training time: 2.36\n",
      "\n",
      "#######\n",
      "\n",
      "Arbol de Decision\n",
      "Precision: 0.66\n",
      "Recall: 0.65\n",
      "Accuracy: 0.65\n",
      "f1_score: 0.65\n",
      "Training time: 2.76\n",
      "\n",
      "#######\n",
      "\n",
      "Random Forest\n",
      "Precision: 0.75\n",
      "Recall: 0.68\n",
      "Accuracy: 0.73\n",
      "f1_score: 0.72\n",
      "Training time: 29.91\n",
      "\n",
      "#######\n",
      "\n",
      "GBT\n",
      "Precision: 0.77\n",
      "Recall: 0.67\n",
      "Accuracy: 0.73\n",
      "f1_score: 0.72\n",
      "Training time: 39.54\n",
      "\n",
      "#######\n",
      "\n",
      "Best:  None\n"
     ]
    },
    {
     "data": {
      "image/png": "[encoded data removed]",
      "text/plain": [
       "<Figure size 1440x576 with 8 Axes>"
      ]
     },
     "metadata": {
      "needs_background": "light"
     },
     "output_type": "display_data"
    }
   ],
   "source": [
    "results = {}\n",
    "best_name = \"None\"\n",
    "best = None\n",
    "indice = 0\n",
    "fig, axs = plt.subplots(nrows=1, ncols=len(classification_models), figsize=(20, 8))\n",
    "num_cv = 10\n",
    "#for model_name,modelo in [(clave, valor) for clave,valor in classification_models.items() if \"Logist\" not in clave]:\n",
    "for model_name,modelo in classification_models.items():\n",
    "    t_zero = tm.time()\n",
    "    print(model_name)\n",
    "    results[model_name] = {}\n",
    "    modelo.fit(housing_final_train,y_train_NBA)\n",
    "    if num_cv < 2:\n",
    "        housing_predictions = modelo.predict(housing_final_train)\n",
    "        \n",
    "    else:\n",
    "        housing_predictions = cross_val_predict(modelo,housing_final_train, y_train_NBA, cv = num_cv, \\\n",
    "                                                method = \"predict\")\n",
    "    # Metrics\n",
    "    results[model_name][\"predictions\"] = housing_predictions.copy()\n",
    "    for metric,evaluator in zip([\"Precision\",\"Recall\",\"Accuracy\",\"f1_score\"],[precision_score, recall_score, \\\n",
    "                                                                              accuracy_score, f1_score]):\n",
    "        results[model_name][metric] = evaluator(y_train_NBA,housing_predictions)\n",
    "        print(\"%s: %.2f\" %(metric, results[model_name][metric]))\n",
    "    plt.rc('font', size=10)\n",
    "    ConfusionMatrixDisplay.from_predictions(y_train_NBA, housing_predictions, ax=axs[indice]) \n",
    "    axs[indice].set_title(model_name)\n",
    "    #results[model_name] = recall_score(y_train_NBA, housing_predictions)\n",
    "    #print(results[model_name])\n",
    "    #best = results[model_name] if best == None else best\n",
    "    #best_name = model_name if results[model_name] < best else best_name\n",
    "    #best = results[model_name] if results[model_name] > best else best\n",
    "    #print(\"Modelo <{}> -> Precision: {}, training_time: {}\".format(model_name, results[model_name], tm.time() - t_zero))\n",
    "    print(\"Training time: %.2f\\n\" %(tm.time() - t_zero))\n",
    "    print(\"#######\\n\")\n",
    "    indice += 1\n",
    "#print(\"Best: \",best_name)\n",
    "plt.show()"
   ]
  },
  {
   "cell_type": "markdown",
   "metadata": {},
   "source": [
    "### Recordando un poco de las metricas de clasificación"
   ]
  },
  {
   "cell_type": "markdown",
   "metadata": {},
   "source": [
    "### Métricas para clasificación\n",
    "\n",
    "##### Accuracy\n",
    "La métrica más habitual. Calcula el % de acierto teniendo en cuenta todas las clases del algoritmo de clasificación. Esta métrica es muy fácil de entender, pero no profundiza en el % de acierto de cada clase, que puede ser algo interesante, dependiendo del problema que queramos tratar.\n",
    "\n",
    "Accuracy = (TP + TN) / Total\n",
    "\n",
    "##### Matriz de confusión\n",
    "Confusión o *error matrix* es una tabla que describe el rendimiento de un modelo supervisado de Machine Learning en los datos de test, donde se desconocen los verdaderos valores. Se llama “matriz de confusión” porque hace que sea fácil detectar dónde el sistema está confundiendo dos clases.\n",
    "\n",
    "* **True Positives (TP)**: cuando la clase real del punto de datos era 1 (Verdadero) y la predicha es también 1 (Verdadero)\n",
    "* **Verdaderos Negativos (TN)**: cuando la clase real del punto de datos fue 0 (Falso) y el pronosticado también es 0 (Falso).\n",
    "* **False Positives (FP)**: cuando la clase real del punto de datos era 0 (False) y el pronosticado es 1 (True).\n",
    "* **False Negatives (FN)**: Cuando la clase real del punto de datos era 1 (Verdadero) y el valor predicho es 0 (Falso).\n",
    "\n",
    "##### Recall o Sensibilidad\n",
    "Los positivos que he clasificado bien vs todos los positivos que había. Métrica que se utiliza cuando queremos ahcer foco en minimizar los FN (Falsos Negativos). Claro ejemplo puede ser un test de COVID. No me importa tanto que haya FP, ya que las consecuencias son aislamientos preventivos, mientras que tener FN, es decir, personas con COVID, cuyo resultado del test es negativo, si es grave ya que pueden producir más contagios.\n",
    "\n",
    "Recall = TP / (TP + FN)\n",
    "\n",
    "##### Precision\n",
    "De los que ha predicho como 1, cuántos en realidad ha acertado. Precision, a diferencia del recall, pone foco en minimizar los FP. Como ejemplo podemos poner un filtro anti-spam. Que se cuele algún correo de spam (FN) no me importa. Ahora bien, si se clasifica como spam un correo importante del jefe (FP) y no lo leemos, sí es más grave.\n",
    "\n",
    "Precision = TP / (TP + FP)\n",
    "\n",
    "##### Specifity\n",
    "Es el número de ítems correctamente identificados como negativos sobre el total de negativos. Es lo opuesto al Recall.\n",
    "\n",
    "Specifity = TN / (TN + FP)\n",
    "\n",
    "##### F1-Score\n",
    "Combinación de las métricas Precision y Recall. Esta métrica se utiliza para comparar clasificadores, ya que es algo más compleja de entender, pero muy útil cuando tenemos clasificadores cuyos valores de recall y precision se intercalan unos con otros y no está muy claro cuál es mejor, a no ser que tengamos claro que hay que centrarse o bien en el recall o en el precision. El rango del F1-score va de 0 a 1, como las métricas anteriores.\n",
    "\n",
    "F1-score = 2 * Precision * Recall / (Precision + Recall)\n",
    "\n",
    "\n",
    "##### Precision vs Recall plot\n",
    "Recuerda que el modelo por defecto calcula las probabilidades de pertenecer a una clase, y que por defecto, si por ejemplo el clasificador es binario, y la probabilidad cae por encima del 50% se clasificaría como 1, como positivo. Ahora bien, modificar ese threshold cambia completamente la matrz de confusión. Si subimos el threshold somos más restrictivos con los 1s, y por tanto empezará a clasificar más valores como 0s y como FN. En cambio si lo bajamos, somos más permisivos con los 1s, los clasificaríamos casi todos, pero subirían los FP.\n",
    "\n",
    "Es por ello que existen curvas como ROC o Precision vs Recall con las que podremos ver diferentes comportamientos del clasificador, teniendo en cuenta varios thresholds, y todo ello en una misma gráfica.\n",
    "\n",
    "Mediante esta curva obtendremos el punto óptimo de precision vs recall. Para usar esta gráfica hay que comprender bien qué significan las métricas de precision y de recall\n",
    "\n",
    "<img src=\"./img/precs_recall.png\" alt=\"drawing\" width=\"500\"/>\n",
    "\n",
    "##### ROC Curve/AUC\n",
    "Similar a la anterior curva. Nos sirve para comparar el recall con FPR = FP/(FP + TN)\n",
    "\n",
    "De esta curva podemos obtener una medida, que es el AUC (Area Under the Curve). El AUC cuanto más cercano a 1, mejor será el clasificador. Si la curva es una línea recta estaremos ante un clasificador muy malo, que no sería muy diferente a un clasificador aleatorio.\n",
    "\n",
    "**Normalmente se usa la ROC curve cuando tenemos datasets balanceados, mientras que la curva precision-recall es más propia de datasets con una clase mayoritaria.**\n"
   ]
  },
  {
   "cell_type": "markdown",
   "metadata": {},
   "source": [
    "Si tenemos dudas, podemos pintar las curvas ROC"
   ]
  },
  {
   "cell_type": "code",
   "execution_count": 453,
   "metadata": {},
   "outputs": [],
   "source": [
    "from sklearn.metrics import roc_curve, auc\n",
    "import matplotlib.patches as patches\n",
    "import matplotlib.pyplot as plt"
   ]
  },
  {
   "cell_type": "code",
   "execution_count": 466,
   "metadata": {},
   "outputs": [
    {
     "name": "stdout",
     "output_type": "stream",
     "text": [
      "Regresion Logistica\n",
      "AUROC: 0.76\n",
      "Random Forest\n",
      "AUROC: 0.80\n",
      "GBT\n",
      "AUROC: 0.79\n"
     ]
    },
    {
     "data": {
      "image/png": "[encoded data removed]",
      "text/plain": [
       "<Figure size 432x360 with 1 Axes>"
      ]
     },
     "metadata": {
      "needs_background": "light"
     },
     "output_type": "display_data"
    },
    {
     "data": {
      "image/png": "[encoded data removed]",
      "text/plain": [
       "<Figure size 432x360 with 1 Axes>"
      ]
     },
     "metadata": {
      "needs_background": "light"
     },
     "output_type": "display_data"
    },
    {
     "data": {
      "image/png": "[encoded data removed]",
      "text/plain": [
       "<Figure size 432x360 with 1 Axes>"
      ]
     },
     "metadata": {
      "needs_background": "light"
     },
     "output_type": "display_data"
    }
   ],
   "source": [
    "colores = [\"red\",\"orange\",\"blue\",\"maroon\"]\n",
    "indice = 0\n",
    "for model_name,modelo in [(model_name, modelo) for model_name,modelo in classification_models.items() if \"Arbol\" not in model_name]:\n",
    "    print(model_name)\n",
    "    scores = cross_val_predict(modelo,housing_final_train,y_train_NBA, cv = num_cv, method = \"predict_proba\")\n",
    "    fpr, tpr, thresholds = roc_curve(y_train_NBA, scores[:,1])\n",
    "    #idx_for_threshold_at_90 = (thresholds <= threshold_for_90_precision).argmax()\n",
    "    #tpr_90, fpr_90 = tpr[idx_for_threshold_at_90], fpr[idx_for_threshold_at_90]\n",
    "    roc_auc = auc(fpr,tpr)\n",
    "    print(\"AUROC: %.2f\" %(roc_auc))\n",
    "    plt.figure(figsize=(6, 5))  \n",
    "    plt.plot(fpr, tpr, linewidth=2, color= colores[indice], label=\"ROC %s (area = %0.2f)\" %(model_name, roc_auc))\n",
    "    plt.plot([0, 1], [0, 1], 'k:', label=\"Random classifier's ROC curve\")\n",
    "#plt.xlabel('False Positive Rate (Fall-Out)')\n",
    "    plt.ylabel('True Positive Rate (Recall)')\n",
    "    plt.grid()\n",
    "    plt.axis([0, 1, 0, 1])\n",
    "    plt.legend(loc=\"lower right\", fontsize=13)\n",
    "    #plt.plot([fpr_90], [tpr_90], \"ko\", label=\"Threshold for 90% precision\")\n",
    "\n",
    "    # extra code – just beautifies and saves Figure 3–7\n",
    "    #plt.gca().add_patch(patches.FancyArrowPatch(\n",
    "        #(0.20, 0.89), (0.07, 0.70),\n",
    "        #connectionstyle=\"arc3,rad=.4\",\n",
    "        #arrowstyle=\"Simple, tail_width=1.5, head_width=8, head_length=10\",\n",
    "        #color=\"#444444\"))\n",
    "    #plt.text(0.12, 0.71, \"Higher\\nthreshold\", color=\"#333333\")\n",
    "    indice += 1\n",
    "plt.show()\n",
    "\n"
   ]
  },
  {
   "cell_type": "markdown",
   "metadata": {},
   "source": [
    "Por esta vez nos quedamos con GBT (por cambiar), pero igual habría que optimizar los parámetros de los tres y luego volver a validarlos"
   ]
  },
  {
   "cell_type": "markdown",
   "metadata": {},
   "source": [
    "<img src=\"./img/ml_pipeline_7.png\" alt=\"drawing\" width=\"700\"/>"
   ]
  },
  {
   "cell_type": "markdown",
   "metadata": {},
   "source": [
    "## \"Tunear\" el modelo: Elegir hiperparámetros\n",
    "\n",
    "<img src=\"./img/estilos_tuning.jpg\" alt=\"drawing\" width=\"700\"/>\n",
    "\n",
    "Como ya sabes, cada dataset es de su padre y de su madre, y por tanto es imposible determinar el modelo con sus hiperparámetros que mejor se ajusten a los datos. Por tanto, tendremos que probar varias combinaciones. Por suerte `sklearn` tiene una función llamada GridSearchCV que permite probar varias combinaciones de una manera automatizada.\n",
    "\n",
    "Empieza iterando unos pocos hiperparámetros y luego ve subiendo, según los resultados de esa ejecución.\n",
    "\n"
   ]
  },
  {
   "cell_type": "markdown",
   "metadata": {},
   "source": [
    "Nota:  \n",
    "* Parámetros (pesos), los que ajusta internamente cada modelo según su filosofía de \"aprendizaje\"  \n",
    "* Hiperparámetros: Los que podemos \"tocar\" desde fuera y que suelen tener que ver con la estructura del modelo, el nivel de aprendizaje, numero de iteraciones para aprender, etc.."
   ]
  },
  {
   "cell_type": "markdown",
   "metadata": {},
   "source": [
    "## Grid_search"
   ]
  },
  {
   "cell_type": "code",
   "execution_count": 473,
   "metadata": {},
   "outputs": [],
   "source": [
    "from sklearn.model_selection import GridSearchCV"
   ]
  },
  {
   "cell_type": "code",
   "execution_count": 526,
   "metadata": {},
   "outputs": [],
   "source": [
    "# RANDOM FOREST\n",
    "grid_random_forest = {\"randomforestregressor__n_estimators\": [100,120], # El Random Forest no suele empeorar por exceso de\n",
    "                                             # estimadores. A partir de cierto numero no merece la pena\n",
    "                                             # perder el tiempo ya que no mejora mucho más la precisión.\n",
    "                                             # Entre 100 y 200 es una buena cifra\n",
    "\n",
    "                     \n",
    "                     \"randomforestregressor__max_depth\": [3,4,5], # No le afecta tanto el overfitting como al decissiontree.\n",
    "                                                      # Podemos probar mayores profundidades\n",
    "                      \n",
    "                     \"randomforestregressor__max_features\": [3, 4, 6] # Numero de features que utiliza en cada split.\n",
    "                                                    # cuanto más bajo, mejor generalizará y menos overfitting.\n",
    "                                                    \n",
    "                     }\n",
    "\n",
    "\n",
    "# GRADIENT BOOSTING\n",
    "grid_gradient_boosting = {\"gradientboostingclassifier__loss\": [\"deviance\"], # Deviance suele ir mejor.\n",
    "                          \"gradientboostingclassifier__learning_rate\": [0.05, 0.1, 0.2, 0.4],  # Cuanto más alto, mas aporta cada nuevo arbol\n",
    "                          \n",
    "                          \"gradientboostingclassifier__n_estimators\": [20,50,100], # Cuidado con poner muchos estiamdores ya que vamos a\n",
    "                                                           # sobreajustar el modelo\n",
    "                          \n",
    "                          \"gradientboostingclassifier__max_depth\": [1,2,3,4], # No es necesario poner una profundiad muy alta. Cada nuevo\n",
    "                                                    # arbol va corrigiendo el error de los anteriores.\n",
    "                          \n",
    "                          \n",
    "                          \"gradientboostingclassifier__max_features\": [3, 4], # Igual que en el random forest\n",
    "                          }\n",
    "\n"
   ]
  },
  {
   "cell_type": "code",
   "execution_count": 527,
   "metadata": {},
   "outputs": [],
   "source": [
    "rgs_model = regression_models[\"Random Forest\"]\n",
    "clf_model = classification_models[\"GBT\"]"
   ]
  },
  {
   "cell_type": "code",
   "execution_count": 523,
   "metadata": {},
   "outputs": [
    {
     "data": {
      "text/plain": [
       "Pipeline(steps=[('columntransformer',\n",
       "                 ColumnTransformer(remainder=Pipeline(steps=[('simpleimputer',\n",
       "                                                              SimpleImputer(strategy='median')),\n",
       "                                                             ('standardscaler',\n",
       "                                                              StandardScaler())]),\n",
       "                                   transformers=[('bedrooms',\n",
       "                                                  Pipeline(steps=[('simpleimputer',\n",
       "                                                                   SimpleImputer(strategy='median')),\n",
       "                                                                  ('functiontransformer',\n",
       "                                                                   FunctionTransformer(feature_names_out=<function ratio_name at 0x131...\n",
       "                                                                                       func=<ufunc 'log'>)),\n",
       "                                                                  ('standardscaler',\n",
       "                                                                   StandardScaler())]),\n",
       "                                                  ['total_bedrooms',\n",
       "                                                   'total_rooms', 'population',\n",
       "                                                   'households']),\n",
       "                                                 ('cat',\n",
       "                                                  Pipeline(steps=[('simpleimputer',\n",
       "                                                                   SimpleImputer(strategy='most_frequent')),\n",
       "                                                                  ('onehotencoder',\n",
       "                                                                   OneHotEncoder(handle_unknown='ignore',\n",
       "                                                                                 sparse=False))]),\n",
       "                                                  ['ocean_proximity',\n",
       "                                                   'income_cat'])])),\n",
       "                ('gradientboostingclassifier', GradientBoostingClassifier())])"
      ]
     },
     "execution_count": 523,
     "metadata": {},
     "output_type": "execute_result"
    }
   ],
   "source": [
    "clf_model"
   ]
  },
  {
   "cell_type": "code",
   "execution_count": 507,
   "metadata": {},
   "outputs": [],
   "source": [
    "grid_search_rgs = GridSearchCV(rgs_model, grid_random_forest, cv=3,\n",
    "                           scoring='neg_root_mean_squared_error')"
   ]
  },
  {
   "cell_type": "code",
   "execution_count": 529,
   "metadata": {},
   "outputs": [],
   "source": [
    "grid_search_clf = GridSearchCV(clf_model, grid_gradient_boosting, cv = 3,\n",
    "                              scoring = \"precision\")"
   ]
  },
  {
   "cell_type": "code",
   "execution_count": 509,
   "metadata": {},
   "outputs": [
    {
     "name": "stdout",
     "output_type": "stream",
     "text": [
      "CPU times: user 40.7 s, sys: 364 ms, total: 41.1 s\n",
      "Wall time: 41.3 s\n"
     ]
    },
    {
     "data": {
      "text/plain": [
       "GridSearchCV(cv=3,\n",
       "             estimator=Pipeline(steps=[('columntransformer',\n",
       "                                        ColumnTransformer(remainder=Pipeline(steps=[('simpleimputer',\n",
       "                                                                                     SimpleImputer(strategy='median')),\n",
       "                                                                                    ('standardscaler',\n",
       "                                                                                     StandardScaler())]),\n",
       "                                                          transformers=[('bedrooms',\n",
       "                                                                         Pipeline(steps=[('simpleimputer',\n",
       "                                                                                          SimpleImputer(strategy='median')),\n",
       "                                                                                         ('functiontransformer',\n",
       "                                                                                          FunctionTransformer(feature_names_ou...\n",
       "                                                                                          SimpleImputer(strategy='most_frequent')),\n",
       "                                                                                         ('onehotencoder',\n",
       "                                                                                          OneHotEncoder(handle_unknown='ignore',\n",
       "                                                                                                        sparse=False))]),\n",
       "                                                                         ['ocean_proximity',\n",
       "                                                                          'income_cat'])])),\n",
       "                                       ('randomforestregressor',\n",
       "                                        RandomForestRegressor())]),\n",
       "             param_grid={'randomforestregressor__max_depth': [3, 4, 5],\n",
       "                         'randomforestregressor__max_features': [3, 4, 6],\n",
       "                         'randomforestregressor__n_estimators': [100, 120]},\n",
       "             scoring='neg_root_mean_squared_error')"
      ]
     },
     "execution_count": 509,
     "metadata": {},
     "output_type": "execute_result"
    }
   ],
   "source": [
    "time grid_search_rgs.fit(housing_final_train, y_train_value)"
   ]
  },
  {
   "cell_type": "code",
   "execution_count": 510,
   "metadata": {
    "scrolled": true
   },
   "outputs": [
    {
     "data": {
      "text/plain": [
       "{'randomforestregressor__max_depth': 5,\n",
       " 'randomforestregressor__max_features': 6,\n",
       " 'randomforestregressor__n_estimators': 100}"
      ]
     },
     "execution_count": 510,
     "metadata": {},
     "output_type": "execute_result"
    }
   ],
   "source": [
    "grid_search_rgs.best_params_"
   ]
  },
  {
   "cell_type": "code",
   "execution_count": 535,
   "metadata": {},
   "outputs": [],
   "source": [
    "best_rgs = grid_search_rgs.best_estimator_"
   ]
  },
  {
   "cell_type": "code",
   "execution_count": 530,
   "metadata": {},
   "outputs": [
    {
     "name": "stdout",
     "output_type": "stream",
     "text": [
      "CPU times: user 1min 47s, sys: 2.08 s, total: 1min 50s\n",
      "Wall time: 1min 50s\n"
     ]
    },
    {
     "data": {
      "text/plain": [
       "GridSearchCV(cv=3,\n",
       "             estimator=Pipeline(steps=[('columntransformer',\n",
       "                                        ColumnTransformer(remainder=Pipeline(steps=[('simpleimputer',\n",
       "                                                                                     SimpleImputer(strategy='median')),\n",
       "                                                                                    ('standardscaler',\n",
       "                                                                                     StandardScaler())]),\n",
       "                                                          transformers=[('bedrooms',\n",
       "                                                                         Pipeline(steps=[('simpleimputer',\n",
       "                                                                                          SimpleImputer(strategy='median')),\n",
       "                                                                                         ('functiontransformer',\n",
       "                                                                                          FunctionTransformer(feature_names_ou...\n",
       "                                       ('gradientboostingclassifier',\n",
       "                                        GradientBoostingClassifier())]),\n",
       "             param_grid={'gradientboostingclassifier__learning_rate': [0.05,\n",
       "                                                                       0.1, 0.2,\n",
       "                                                                       0.4],\n",
       "                         'gradientboostingclassifier__loss': ['deviance'],\n",
       "                         'gradientboostingclassifier__max_depth': [1, 2, 3, 4],\n",
       "                         'gradientboostingclassifier__max_features': [3, 4],\n",
       "                         'gradientboostingclassifier__n_estimators': [20, 50,\n",
       "                                                                      100]},\n",
       "             scoring='precision')"
      ]
     },
     "execution_count": 530,
     "metadata": {},
     "output_type": "execute_result"
    }
   ],
   "source": [
    "time grid_search_clf.fit(housing_final_train, y_train_NBA)"
   ]
  },
  {
   "cell_type": "code",
   "execution_count": 531,
   "metadata": {
    "scrolled": true
   },
   "outputs": [
    {
     "data": {
      "text/plain": [
       "{'gradientboostingclassifier__learning_rate': 0.2,\n",
       " 'gradientboostingclassifier__loss': 'deviance',\n",
       " 'gradientboostingclassifier__max_depth': 4,\n",
       " 'gradientboostingclassifier__max_features': 3,\n",
       " 'gradientboostingclassifier__n_estimators': 100}"
      ]
     },
     "execution_count": 531,
     "metadata": {},
     "output_type": "execute_result"
    }
   ],
   "source": [
    "grid_search_clf.best_params_"
   ]
  },
  {
   "cell_type": "code",
   "execution_count": 532,
   "metadata": {},
   "outputs": [],
   "source": [
    "best_clf = grid_search_clf.best_estimator_"
   ]
  },
  {
   "cell_type": "markdown",
   "metadata": {},
   "source": [
    "## Evaluamos en el test set"
   ]
  },
  {
   "cell_type": "code",
   "execution_count": 538,
   "metadata": {},
   "outputs": [],
   "source": [
    "housing_test_pre = strat_test_set.drop([\"NBA\",\"median_house_value\",\"new_district_id\"], axis = 1)"
   ]
  },
  {
   "cell_type": "code",
   "execution_count": 539,
   "metadata": {},
   "outputs": [
    {
     "name": "stdout",
     "output_type": "stream",
     "text": [
      "67894.9509086413\n"
     ]
    }
   ],
   "source": [
    "final_predictions = best_rgs.predict(housing_test_pre)\n",
    "\n",
    "final_rmse = mean_squared_error(y_test_value, final_predictions, squared=False)\n",
    "print(final_rmse)"
   ]
  },
  {
   "cell_type": "code",
   "execution_count": 540,
   "metadata": {},
   "outputs": [
    {
     "name": "stdout",
     "output_type": "stream",
     "text": [
      "Precision: 0.77\n",
      "Recall: 0.67\n",
      "Accuracy: 0.73\n",
      "f1_score: 0.72\n"
     ]
    }
   ],
   "source": [
    "final_predictions_clf = best_clf.predict(housing_test_pre)\n",
    "\n",
    "for metric,evaluator in zip([\"Precision\",\"Recall\",\"Accuracy\",\"f1_score\"],[precision_score, recall_score, \\\n",
    "                                                                              accuracy_score, f1_score]):\n",
    "        valor = evaluator(y_test_NBA,final_predictions_clf)\n",
    "        print(\"%s: %.2f\" %(metric, valor))"
   ]
  },
  {
   "cell_type": "markdown",
   "metadata": {},
   "source": [
    "<img src=\"./img/ml_pipeline_8.png\" alt=\"drawing\" width=\"700\"/>"
   ]
  },
  {
   "cell_type": "markdown",
   "metadata": {},
   "source": [
    "# Guardamos los modelos"
   ]
  },
  {
   "cell_type": "markdown",
   "metadata": {},
   "source": [
    "Dos formas, el \"jefe\" Aurelien nos dice que joblib es más eficiente"
   ]
  },
  {
   "cell_type": "code",
   "execution_count": 542,
   "metadata": {},
   "outputs": [
    {
     "data": {
      "text/plain": [
       "['price_housing_model.pkl']"
      ]
     },
     "execution_count": 542,
     "metadata": {},
     "output_type": "execute_result"
    }
   ],
   "source": [
    "import joblib\n",
    "\n",
    "joblib.dump(best_rgs, \"price_housing_model.pkl\")"
   ]
  },
  {
   "cell_type": "code",
   "execution_count": 543,
   "metadata": {},
   "outputs": [],
   "source": [
    "import pickle\n",
    "\n",
    "with open('sports_housing_based_model.pkl', \"wb\") as archivo_salida:\n",
    "    pickle.dump(best_clf, archivo_salida)"
   ]
  },
  {
   "cell_type": "markdown",
   "metadata": {},
   "source": [
    "## Despliegue en producción (bueno...)"
   ]
  },
  {
   "cell_type": "code",
   "execution_count": 551,
   "metadata": {},
   "outputs": [],
   "source": [
    "import joblib\n",
    "\n",
    "# extra code – excluded for conciseness -> All the ETL, cleaning, etc to \\\n",
    "# get a housing data as the one expected by the pipelines\n",
    "\n",
    "def column_ratio(X):\n",
    "    return X[:, [0]] / X[:, [1]]\n",
    "\n",
    "final_model_reloaded = joblib.load(\"price_housing_model.pkl\")\n",
    "\n",
    "new_data = housing_test_pre.iloc[:5]  # pretend these are new districts\n",
    "predictions = final_model_reloaded.predict(new_data)"
   ]
  },
  {
   "cell_type": "code",
   "execution_count": 552,
   "metadata": {},
   "outputs": [
    {
     "data": {
      "text/plain": [
       "array([385377.73094037, 237203.34039665, 249506.43037909, 227554.60451355,\n",
       "       265202.96220141])"
      ]
     },
     "execution_count": 552,
     "metadata": {},
     "output_type": "execute_result"
    }
   ],
   "source": [
    "predictions"
   ]
  },
  {
   "cell_type": "code",
   "execution_count": 557,
   "metadata": {},
   "outputs": [],
   "source": [
    "import pickle\n",
    "\n",
    "# extra code – excluded for conciseness -> All the ETL, cleaning, etc to \\\n",
    "# get a housing data as the one expected by the pipelines\n",
    "def column_ratio(X):\n",
    "    return X[:, [0]] / X[:, [1]]\n",
    "\n",
    "\n",
    "with open('sports_housing_based_model.pkl', \"rb\") as archivo_salida:\n",
    "    best_clf = pickle.load(archivo_salida)\n",
    "    \n",
    "new_data = housing_test_pre.iloc[:10]  # pretend these are new districts\n",
    "predictions = best_clf.predict(new_data)"
   ]
  },
  {
   "cell_type": "code",
   "execution_count": 558,
   "metadata": {},
   "outputs": [
    {
     "data": {
      "text/plain": [
       "array([0, 0, 0, 0, 0, 1, 1, 0, 0, 0])"
      ]
     },
     "execution_count": 558,
     "metadata": {},
     "output_type": "execute_result"
    }
   ],
   "source": [
    "predictions"
   ]
  },
  {
   "cell_type": "markdown",
   "metadata": {},
   "source": [
    "## ULTIMAS CONSIDERACIONES"
   ]
  },
  {
   "cell_type": "markdown",
   "metadata": {},
   "source": [
    "### _La verdadera Evaluación..._\n",
    "  Se debe hacer contra los objetivos finales o de negocio y siempre preguntar o aclarar para que no estemos entrenando modelos muy predictivos de algo que nadie quiere saber\n",
    "\n",
    "\n",
    "### _AUTO ML, ML FLOW, CLOUD MLs, etc_\n",
    "La importancia del Data Engineering aumenta si vamos a trabajar solo con modelos \"clásicos\" en problemas clásicos. Por otro lado la aparición de modelos más complejos (DL) y de caja negra y la preocupación por los sesgos hace cada vez más importante el trabajo del DS en la interpretabilidad de modelos.\n",
    "\n",
    "  \n",
    "### _Deep Learning_\n",
    "Para la resolución de problemas diferentes (más o menos complejos, en general más, como detección de objetos, procesado avanzado de lenguaje natural, realización de acciones autónomas), surge la necesidad de tratar con datos con una mayor dimensionaliad (o sea, muchísimas más features). El coste es doble: tiempos de ejecución y la maldición de la dimensionalidad (a mayor número de features, mayor número de posibles relaciones entre ellas, más complejo es optimizar funciones de coste, utilidad o pérdida).\n",
    "Para tratar con todo ello surge Deep Learning o por lo menos así nos lo han vendido...\n",
    "¿Tiene sentido aplicar DL a problemas \"sencillos\"? (abro hilo de debate :-)...)"
   ]
  },
  {
   "cell_type": "code",
   "execution_count": null,
   "metadata": {},
   "outputs": [],
   "source": []
  }
 ],
 "metadata": {
  "kernelspec": {
   "display_name": "Python 3",
   "language": "python",
   "name": "python3"
  },
  "language_info": {
   "codemirror_mode": {
    "name": "ipython",
    "version": 3
   },
   "file_extension": ".py",
   "mimetype": "text/x-python",
   "name": "python",
   "nbconvert_exporter": "python",
   "pygments_lexer": "ipython3",
   "version": "3.7.2"
  }
 },
 "nbformat": 4,
 "nbformat_minor": 4
}
