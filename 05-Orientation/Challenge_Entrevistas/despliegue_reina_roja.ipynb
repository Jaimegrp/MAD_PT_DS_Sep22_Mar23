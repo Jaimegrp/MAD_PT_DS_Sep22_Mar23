{
 "cells": [
  {
   "attachments": {},
   "cell_type": "markdown",
   "metadata": {},
   "source": [
    "# EJERCICIO DESPLIGUE REINA ROJA"
   ]
  },
  {
   "attachments": {},
   "cell_type": "markdown",
   "metadata": {},
   "source": [
    "Estimado candidat@:\n",
    "\n",
    "\n",
    "\n",
    "Mi nombre es Ian Notanai, recruiter especializado. Como ya sabrá, JGJ Deployments es una empresa puntera en la evaluación de proyectos estratégicos de todo tipo. Nuestro valor diferencial reside en la especial utilización que hacemos de la IA. La empleamos con sentido común y conocimiento de dominio. El siguiente ejercicio, ficticio, lo denominamos Despliegue Reina Roja y aunque sencillo nos sirve para valorar no sólo su capacidad como Data Science sino también como posible nuevo miembro de JGJ Deployments. Por favor, lea con atención las instrucciones y danos tu mejor respuesta. ¡¡¡¡Queremos contar contigo!!!!\n",
    "\n",
    "\n",
    "\n"
   ]
  },
  {
   "attachments": {},
   "cell_type": "markdown",
   "metadata": {},
   "source": [
    "## PARTE I. Despliegues Secretos\n",
    "\n",
    "Uno de nuestros clientes quiere evaluar el despliegue de una central de operaciones terrestre \"secreta\" y tiene tres posibles candidatos. Nos ha pedido que le asesoremos en cuestiones de coste de despliegue. Para cumplir con el trabajo, hemos recabado información de diversa índole y de diferentes fuentes. Podrá encontrar dicha información en el archivo \"cost_report_tabular_data_incomplete.csv\". \n"
   ]
  },
  {
   "cell_type": "markdown",
   "metadata": {},
   "source": [
    "Cargue los datos y haga un pequeño análisis de los mismos."
   ]
  },
  {
   "cell_type": "code",
   "execution_count": null,
   "metadata": {},
   "outputs": [],
   "source": []
  },
  {
   "attachments": {},
   "cell_type": "markdown",
   "metadata": {},
   "source": [
    "Sabiendo que las posibles localizaciones de nuestro cliente tienen las siguientes coordenadas:  \n",
    "* Localización A: Latidud: 1.01, Longitud: 48.57\n",
    "* Localización B: Latitud: -3.74, Longitud: 49.49\n",
    "* Localización C: Latitud: -0.09, Longitud: 44.77 \n",
    "De esta última además nos informan que está cerca de la ciudad de Kisimu\n"
   ]
  },
  {
   "cell_type": "markdown",
   "metadata": {},
   "source": [
    "¿Cuál cree que es la mejor localización? Razone su respuesta"
   ]
  },
  {
   "cell_type": "code",
   "execution_count": null,
   "metadata": {},
   "outputs": [],
   "source": []
  },
  {
   "cell_type": "markdown",
   "metadata": {},
   "source": [
    "¿Cree que deberíamos pedir alguna información adicional? De ser así, ¿cuál?"
   ]
  },
  {
   "cell_type": "code",
   "execution_count": null,
   "metadata": {},
   "outputs": [],
   "source": []
  },
  {
   "cell_type": "markdown",
   "metadata": {},
   "source": [
    "Suponga que tiene esa información, adicional, añádala a los datos (si cree necesario \"estímela\") y díganos cuál es la mejor localización."
   ]
  },
  {
   "cell_type": "code",
   "execution_count": null,
   "metadata": {},
   "outputs": [],
   "source": []
  },
  {
   "cell_type": "code",
   "execution_count": null,
   "metadata": {},
   "outputs": [],
   "source": []
  },
  {
   "cell_type": "code",
   "execution_count": null,
   "metadata": {},
   "outputs": [],
   "source": []
  },
  {
   "attachments": {},
   "cell_type": "markdown",
   "metadata": {},
   "source": [
    "## PARTE II. Inteligencia Privilegiada\n",
    "\n",
    "Hemos recibiod importantes informes privilegiados sobre la peligrosidad de las zonas estudiadas. Los podrá econtrar en \"danger_assesment_by_report.csv\". Como es usted una persona estudiosa reconocerá que son informes en Zwalling, un idioma fonético que se utiliza en algunas regiones de Africa como medio de transmisión de mensajes casi cifrados por su dificultad para ser descodificado. \n",
    "\n",
    "Nos ha llegado también el report en Zwalling para las tres localizaciones anteriores, además de una aclaración de nuestro cliente sobre las mismas (que igual usted ya ha descubierto).\n",
    "\n",
    "Los reports para cada localización son:\n",
    "\n",
    "* Localizacion_A: 'dxp sxhgh dñhjuld b ylgd eulññdu ghvwdfdgd eulññdu hylwdu b sxvlhudp dwhpwdgr xp sru hñ'\n",
    "* Localización_B: 'wdñ xp b frpvlghudu hp ñrv hvwr frpwud srguld ñd'\n",
    "* Localización C: 'b ñd wdñ sdc pruodñ ñrv xp txh ghvwuxfflrp xp fuhhp vx frpwud txh gh srguld oxhuwh flhuwr ñd hvwr olñdjur ñd ñd ihñlflgdg'\n"
   ]
  },
  {
   "attachments": {},
   "cell_type": "markdown",
   "metadata": {},
   "source": [
    "Se pide construir un modelo que nos permita valorar que Localización de las tres es la más adecuada. Razone el por qué de ese modelo y cuál de las localizaciones cree la más conveniente."
   ]
  },
  {
   "cell_type": "code",
   "execution_count": null,
   "metadata": {},
   "outputs": [],
   "source": []
  }
 ],
 "metadata": {
  "kernelspec": {
   "display_name": "BootCamp",
   "language": "python",
   "name": "python3"
  },
  "language_info": {
   "codemirror_mode": {
    "name": "ipython",
    "version": 3
   },
   "file_extension": ".py",
   "mimetype": "text/x-python",
   "name": "python",
   "nbconvert_exporter": "python",
   "pygments_lexer": "ipython3",
   "version": "3.10.10"
  },
  "orig_nbformat": 4
 },
 "nbformat": 4,
 "nbformat_minor": 2
}
